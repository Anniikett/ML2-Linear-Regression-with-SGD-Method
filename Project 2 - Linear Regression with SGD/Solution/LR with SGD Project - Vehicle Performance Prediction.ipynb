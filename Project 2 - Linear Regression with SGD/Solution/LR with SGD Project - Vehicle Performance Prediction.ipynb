{
 "cells": [
  {
   "cell_type": "markdown",
   "metadata": {},
   "source": [
    "  <tr>\n",
    "        <td width=\"15%\">\n",
    "        </td>\n",
    "        <td>\n",
    "            <div align=\"left\">\n",
    "                <font size=25px>\n",
    "                    <b>Vehicle Performance Prediction\n",
    "                    </b>\n",
    "                </font>\n",
    "            </div>\n",
    "        </td>\n",
    "    </tr>"
   ]
  },
  {
   "cell_type": "markdown",
   "metadata": {},
   "source": [
    "## Problem Statement:\n",
    "The objective of the dataset is to predict performance of vehicle\n"
   ]
  },
  {
   "cell_type": "markdown",
   "metadata": {},
   "source": [
    "## Data Definition:\n",
    "\n",
    "Attribute Information:\n",
    "\n",
    "1. Kilometer_per_liter: distance in kilometer traveled per liter\n",
    "2. cylinders: No of cylinders\n",
    "3. displacement: displacement\n",
    "4. horsepower: Horsepower is a unit of measurement of power, or the rate at which work is done, usually in reference to the output of engines or motors\n",
    "5. weight: Weight of car\n",
    "6. acceleration: Acceleration of Car\n",
    "7. model year: Model Year of the car\n",
    "8. origin: Country origin\n",
    "9. car name: Car brand and model name (unique for each instance)"
   ]
  },
  {
   "cell_type": "markdown",
   "metadata": {},
   "source": [
    "1. **[Import Packages](#import_packages)**\n",
    "2. **[Read Data](#Read_Data)**\n",
    "3. **[Data Preprocessing](#Data_Preprocessing)**\n",
    "    - 3.1 - [Data Types and Dimensions](#Data_Types)\n",
    "    - 3.2 - [Checking for Missing Values](#Checking_for_Missing_Values)\n",
    "    - 3.3 - [Data Correction](#Data_Correction)\n",
    "    - 3.4 - [Statistical Summary](#Statistical_Summary)    \n",
    "4. **[EDA](#EDA)**\n",
    "    - 4.1 - [Univariate Analysis](#Univariate_Analysis)\n",
    "    - 4.2 - [Multivariate Analysis](#Multivariate_Analysis)\n",
    "    - 4.3 - [Covariance](#Covariance)\n",
    "    - 4.4 - [Correlation](#Correlation)\n",
    "5. **[Label Encoding of Categorical Data](#Label_Encoding_of_Categorical_Data)**\n",
    "6. **[Standardise Data](#Standardise_Data)**\n",
    "7. **[Linear Regression](#Linear_Regression)**\n",
    "    - 7.1 - [Ordinary Least Square](#Ordinary_Least_Square)\n",
    "    - 7.2 - [Linear Regression using SGD](#Linear_Regression_using_SGD)\n",
    "8. **[Model Comparision](#model_cmp)** \n",
    "  "
   ]
  },
  {
   "cell_type": "markdown",
   "metadata": {},
   "source": [
    "<a id='import_packages'></a>\n",
    "## 1. Import Packages"
   ]
  },
  {
   "cell_type": "code",
   "execution_count": 1,
   "metadata": {
    "ExecuteTime": {
     "end_time": "2021-10-28T11:03:52.749332Z",
     "start_time": "2021-10-28T11:03:51.169630Z"
    }
   },
   "outputs": [],
   "source": [
    "import pandas as pd\n",
    "import numpy as np\n",
    "import scipy.stats as stats\n",
    "import matplotlib.pyplot as plt\n",
    "import seaborn as sns\n",
    "# Set default setting of seaborn\n",
    "sns.set()"
   ]
  },
  {
   "cell_type": "code",
   "execution_count": 2,
   "metadata": {
    "ExecuteTime": {
     "end_time": "2021-10-28T11:03:56.954304Z",
     "start_time": "2021-10-28T11:03:56.950368Z"
    }
   },
   "outputs": [],
   "source": [
    "# suppress the warnings \n",
    "from warnings import filterwarnings\n",
    "filterwarnings('ignore')\n",
    "\n",
    "# set the plot size using 'rcParams'\n",
    "# once the plot size is set using 'rcParams', it sets the size of all the forthcoming plots in the file\n",
    "# 15 and 8 are width and height in inches respectively\n",
    "plt.rcParams['figure.figsize'] = [15,8]"
   ]
  },
  {
   "cell_type": "code",
   "execution_count": 3,
   "metadata": {
    "ExecuteTime": {
     "end_time": "2021-10-28T11:03:58.759308Z",
     "start_time": "2021-10-28T11:03:58.754744Z"
    }
   },
   "outputs": [],
   "source": [
    "# use below code to convert the 'exponential' values to float\n",
    "np.set_printoptions(suppress=True)\n",
    "pd.options.display.float_format = '{:.2f}'.format"
   ]
  },
  {
   "cell_type": "markdown",
   "metadata": {},
   "source": [
    "<a id='Read_Data'></a>\n",
    "## 2. Read the Data"
   ]
  },
  {
   "cell_type": "markdown",
   "metadata": {},
   "source": [
    "<table align=\"left\">\n",
    "    <tr>\n",
    "        <td width=\"8%\">\n",
    "            <img src=\"key.png\">\n",
    "        </td>\n",
    "        <td>\n",
    "            <div align=\"left\", style=\"font-size:120%\">\n",
    "                    <b>Read the data using read_csv() function from pandas<br> \n",
    "                </font>\n",
    "            </div>\n",
    "        </td>\n",
    "    </tr>\n",
    "</table>"
   ]
  },
  {
   "cell_type": "code",
   "execution_count": 4,
   "metadata": {
    "ExecuteTime": {
     "end_time": "2021-10-28T11:04:03.280663Z",
     "start_time": "2021-10-28T11:04:03.244451Z"
    },
    "scrolled": true
   },
   "outputs": [
    {
     "data": {
      "text/html": [
       "<div>\n",
       "<style scoped>\n",
       "    .dataframe tbody tr th:only-of-type {\n",
       "        vertical-align: middle;\n",
       "    }\n",
       "\n",
       "    .dataframe tbody tr th {\n",
       "        vertical-align: top;\n",
       "    }\n",
       "\n",
       "    .dataframe thead th {\n",
       "        text-align: right;\n",
       "    }\n",
       "</style>\n",
       "<table border=\"1\" class=\"dataframe\">\n",
       "  <thead>\n",
       "    <tr style=\"text-align: right;\">\n",
       "      <th></th>\n",
       "      <th>origin</th>\n",
       "      <th>cylinders</th>\n",
       "      <th>displacement</th>\n",
       "      <th>horsepower</th>\n",
       "      <th>weight</th>\n",
       "      <th>acceleration</th>\n",
       "      <th>year</th>\n",
       "      <th>name</th>\n",
       "      <th>Kilometer_per_liter</th>\n",
       "    </tr>\n",
       "  </thead>\n",
       "  <tbody>\n",
       "    <tr>\n",
       "      <th>0</th>\n",
       "      <td>1</td>\n",
       "      <td>8</td>\n",
       "      <td>307.00</td>\n",
       "      <td>130</td>\n",
       "      <td>3504</td>\n",
       "      <td>12.00</td>\n",
       "      <td>1970</td>\n",
       "      <td>chevrolet chevelle malibu</td>\n",
       "      <td>7.65</td>\n",
       "    </tr>\n",
       "    <tr>\n",
       "      <th>1</th>\n",
       "      <td>1</td>\n",
       "      <td>8</td>\n",
       "      <td>350.00</td>\n",
       "      <td>165</td>\n",
       "      <td>3693</td>\n",
       "      <td>11.50</td>\n",
       "      <td>1970</td>\n",
       "      <td>buick skylark 320</td>\n",
       "      <td>6.38</td>\n",
       "    </tr>\n",
       "    <tr>\n",
       "      <th>2</th>\n",
       "      <td>1</td>\n",
       "      <td>8</td>\n",
       "      <td>318.00</td>\n",
       "      <td>150</td>\n",
       "      <td>3436</td>\n",
       "      <td>11.00</td>\n",
       "      <td>1970</td>\n",
       "      <td>plymouth satellite</td>\n",
       "      <td>7.65</td>\n",
       "    </tr>\n",
       "    <tr>\n",
       "      <th>3</th>\n",
       "      <td>1</td>\n",
       "      <td>8</td>\n",
       "      <td>304.00</td>\n",
       "      <td>150</td>\n",
       "      <td>3433</td>\n",
       "      <td>12.00</td>\n",
       "      <td>1970</td>\n",
       "      <td>amc rebel sst</td>\n",
       "      <td>6.80</td>\n",
       "    </tr>\n",
       "    <tr>\n",
       "      <th>4</th>\n",
       "      <td>1</td>\n",
       "      <td>8</td>\n",
       "      <td>302.00</td>\n",
       "      <td>140</td>\n",
       "      <td>3449</td>\n",
       "      <td>10.50</td>\n",
       "      <td>1970</td>\n",
       "      <td>ford torino</td>\n",
       "      <td>7.23</td>\n",
       "    </tr>\n",
       "  </tbody>\n",
       "</table>\n",
       "</div>"
      ],
      "text/plain": [
       "   origin  cylinders  displacement horsepower  weight  acceleration  year  \\\n",
       "0       1          8        307.00        130    3504         12.00  1970   \n",
       "1       1          8        350.00        165    3693         11.50  1970   \n",
       "2       1          8        318.00        150    3436         11.00  1970   \n",
       "3       1          8        304.00        150    3433         12.00  1970   \n",
       "4       1          8        302.00        140    3449         10.50  1970   \n",
       "\n",
       "                        name  Kilometer_per_liter  \n",
       "0  chevrolet chevelle malibu                 7.65  \n",
       "1          buick skylark 320                 6.38  \n",
       "2         plymouth satellite                 7.65  \n",
       "3              amc rebel sst                 6.80  \n",
       "4                ford torino                 7.23  "
      ]
     },
     "execution_count": 4,
     "metadata": {},
     "output_type": "execute_result"
    }
   ],
   "source": [
    "# read the data\n",
    "raw_data = pd.read_csv(r'../Dataset/data.csv')\n",
    "\n",
    "# print the first five rows of the data\n",
    "raw_data.head()"
   ]
  },
  {
   "cell_type": "code",
   "execution_count": 5,
   "metadata": {
    "ExecuteTime": {
     "end_time": "2021-10-28T11:04:06.903581Z",
     "start_time": "2021-10-28T11:04:06.898494Z"
    }
   },
   "outputs": [],
   "source": [
    "data = raw_data.copy(deep = True)"
   ]
  },
  {
   "cell_type": "markdown",
   "metadata": {},
   "source": [
    "<a id='data_preparation'></a>\n",
    "## 3. Understand and Prepare the Data"
   ]
  },
  {
   "cell_type": "markdown",
   "metadata": {},
   "source": [
    "<table align=\"left\">\n",
    "    <tr>\n",
    "        <td width=\"8%\">\n",
    "            <img src=\"key.png\">\n",
    "        </td>\n",
    "        <td>\n",
    "            <div align=\"left\", style=\"font-size:120%\">\n",
    "                    <b>The process of data preparation entails cleansing, structuring and integrating data to make it ready for analysis. <br><br>\n",
    "                        Here we will analyze and prepare data :<br>\n",
    "                        1. Check dimensions and data types of the dataframe <br>\n",
    "                        2. Data Correction<br> \n",
    "                        3. Study summary statistics<br> \n",
    "                        4. Check for missing values<br>\n",
    "                                       </b>\n",
    "                </font>\n",
    "            </div>\n",
    "        </td>\n",
    "    </tr>\n",
    "</table>"
   ]
  },
  {
   "cell_type": "markdown",
   "metadata": {},
   "source": [
    "<a id='Data_Types'></a>\n",
    "## 3.1 Data Types and Dimensions"
   ]
  },
  {
   "cell_type": "code",
   "execution_count": 6,
   "metadata": {
    "ExecuteTime": {
     "end_time": "2021-10-28T11:04:12.779502Z",
     "start_time": "2021-10-28T11:04:12.754218Z"
    }
   },
   "outputs": [
    {
     "name": "stdout",
     "output_type": "stream",
     "text": [
      "<class 'pandas.core.frame.DataFrame'>\n",
      "RangeIndex: 398 entries, 0 to 397\n",
      "Data columns (total 9 columns):\n",
      " #   Column               Non-Null Count  Dtype  \n",
      "---  ------               --------------  -----  \n",
      " 0   origin               398 non-null    int64  \n",
      " 1   cylinders            398 non-null    int64  \n",
      " 2   displacement         398 non-null    float64\n",
      " 3   horsepower           398 non-null    object \n",
      " 4   weight               398 non-null    int64  \n",
      " 5   acceleration         398 non-null    float64\n",
      " 6   year                 398 non-null    int64  \n",
      " 7   name                 398 non-null    object \n",
      " 8   Kilometer_per_liter  398 non-null    float64\n",
      "dtypes: float64(3), int64(4), object(2)\n",
      "memory usage: 28.1+ KB\n"
     ]
    }
   ],
   "source": [
    "# check the data types for variables\n",
    "data.info()"
   ]
  },
  {
   "cell_type": "markdown",
   "metadata": {},
   "source": [
    "<table align='left'>\n",
    "    <tr>\n",
    "        <td width='8%'>\n",
    "            <img src='note.png'>\n",
    "        </td>\n",
    "        <td>\n",
    "            <div align='left', style='font-size:120%'>\n",
    "                    <b>From the above output, we see that 'horsepower' is categorical variables which is invalid\n",
    "                    </b>\n",
    "                </font>\n",
    "            </div>\n",
    "        </td>\n",
    "    </tr>\n",
    "</table>"
   ]
  },
  {
   "cell_type": "code",
   "execution_count": 7,
   "metadata": {
    "ExecuteTime": {
     "end_time": "2021-10-28T11:04:16.512549Z",
     "start_time": "2021-10-28T11:04:16.505180Z"
    }
   },
   "outputs": [
    {
     "data": {
      "text/plain": [
       "(398, 9)"
      ]
     },
     "execution_count": 7,
     "metadata": {},
     "output_type": "execute_result"
    }
   ],
   "source": [
    "raw_data.shape"
   ]
  },
  {
   "cell_type": "markdown",
   "metadata": {},
   "source": [
    "**We see the dataframe has 9 columns and 398 observations**"
   ]
  },
  {
   "cell_type": "markdown",
   "metadata": {},
   "source": [
    "<a id='Checking_for_Missing_Values'></a>\n",
    "## 3.2 Checking for Missing Values"
   ]
  },
  {
   "cell_type": "code",
   "execution_count": 8,
   "metadata": {
    "ExecuteTime": {
     "end_time": "2021-10-28T11:04:18.818514Z",
     "start_time": "2021-10-28T11:04:18.808827Z"
    }
   },
   "outputs": [
    {
     "name": "stdout",
     "output_type": "stream",
     "text": [
      "origin                 0\n",
      "cylinders              0\n",
      "displacement           0\n",
      "horsepower             0\n",
      "weight                 0\n",
      "acceleration           0\n",
      "year                   0\n",
      "name                   0\n",
      "Kilometer_per_liter    0\n",
      "dtype: int64\n"
     ]
    }
   ],
   "source": [
    "# get the count of missing values\n",
    "missing_values = data.isnull().sum()\n",
    "\n",
    "# print the count of missing values\n",
    "print(missing_values)"
   ]
  },
  {
   "cell_type": "markdown",
   "metadata": {},
   "source": [
    "**There are no missing values in the dataset**"
   ]
  },
  {
   "cell_type": "markdown",
   "metadata": {},
   "source": [
    "<a id='Data_Correction'></a>\n",
    "## 3.3 Data Correction"
   ]
  },
  {
   "cell_type": "code",
   "execution_count": 9,
   "metadata": {
    "ExecuteTime": {
     "end_time": "2021-10-28T11:04:21.690387Z",
     "start_time": "2021-10-28T11:04:21.682829Z"
    }
   },
   "outputs": [
    {
     "data": {
      "text/plain": [
       "origin                   int64\n",
       "cylinders                int64\n",
       "displacement           float64\n",
       "horsepower              object\n",
       "weight                   int64\n",
       "acceleration           float64\n",
       "year                     int64\n",
       "name                    object\n",
       "Kilometer_per_liter    float64\n",
       "dtype: object"
      ]
     },
     "execution_count": 9,
     "metadata": {},
     "output_type": "execute_result"
    }
   ],
   "source": [
    "data.dtypes"
   ]
  },
  {
   "cell_type": "markdown",
   "metadata": {},
   "source": [
    "**Horsepower an object and not a float, the values we saw above were clearly numbers. Lets try converting the column using astype()**"
   ]
  },
  {
   "cell_type": "markdown",
   "metadata": {},
   "source": [
    "Let's look at the unique elements of horsepower to look for discrepancies "
   ]
  },
  {
   "cell_type": "code",
   "execution_count": 10,
   "metadata": {
    "ExecuteTime": {
     "end_time": "2021-10-28T11:04:25.642535Z",
     "start_time": "2021-10-28T11:04:25.636916Z"
    }
   },
   "outputs": [
    {
     "data": {
      "text/plain": [
       "array(['130', '165', '150', '140', '198', '220', '215', '225', '190',\n",
       "       '170', '160', '95', '97', '85', '88', '46', '87', '90', '113',\n",
       "       '200', '210', '193', '?', '100', '105', '175', '153', '180', '110',\n",
       "       '72', '86', '70', '76', '65', '69', '60', '80', '54', '208', '155',\n",
       "       '112', '92', '145', '137', '158', '167', '94', '107', '230', '49',\n",
       "       '75', '91', '122', '67', '83', '78', '52', '61', '93', '148',\n",
       "       '129', '96', '71', '98', '115', '53', '81', '79', '120', '152',\n",
       "       '102', '108', '68', '58', '149', '89', '63', '48', '66', '139',\n",
       "       '103', '125', '133', '138', '135', '142', '77', '62', '132', '84',\n",
       "       '64', '74', '116', '82'], dtype=object)"
      ]
     },
     "execution_count": 10,
     "metadata": {},
     "output_type": "execute_result"
    }
   ],
   "source": [
    "data.horsepower.unique()"
   ]
  },
  {
   "cell_type": "code",
   "execution_count": 14,
   "metadata": {
    "ExecuteTime": {
     "end_time": "2021-10-28T11:06:18.009718Z",
     "start_time": "2021-10-28T11:06:17.995940Z"
    }
   },
   "outputs": [
    {
     "data": {
      "text/plain": [
       "150    22\n",
       "90     20\n",
       "88     19\n",
       "110    18\n",
       "100    17\n",
       "       ..\n",
       "122     1\n",
       "132     1\n",
       "107     1\n",
       "152     1\n",
       "61      1\n",
       "Name: horsepower, Length: 94, dtype: int64"
      ]
     },
     "execution_count": 14,
     "metadata": {},
     "output_type": "execute_result"
    }
   ],
   "source": [
    "data['horsepower'].value_counts()"
   ]
  },
  {
   "cell_type": "code",
   "execution_count": null,
   "metadata": {},
   "outputs": [],
   "source": []
  },
  {
   "cell_type": "code",
   "execution_count": null,
   "metadata": {},
   "outputs": [],
   "source": []
  },
  {
   "cell_type": "markdown",
   "metadata": {},
   "source": [
    "<table align='left'>\n",
    "    <tr>\n",
    "        <td width='8%'>\n",
    "            <img src='note.png'>\n",
    "        </td>\n",
    "        <td>\n",
    "            <div align='left', style='font-size:120%'>\n",
    "                    <b>'?' in horsepower is a placeholder for missing values</b>\n",
    "                </font>\n",
    "            </div>\n",
    "        </td>\n",
    "    </tr>\n",
    "</table>"
   ]
  },
  {
   "cell_type": "markdown",
   "metadata": {},
   "source": [
    "**Removing '?' from horsepower**"
   ]
  },
  {
   "cell_type": "code",
   "execution_count": 20,
   "metadata": {
    "ExecuteTime": {
     "end_time": "2021-10-28T11:14:32.610887Z",
     "start_time": "2021-10-28T11:14:32.602052Z"
    }
   },
   "outputs": [],
   "source": [
    "\n",
    "data = data[data.horsepower != '?']"
   ]
  },
  {
   "cell_type": "code",
   "execution_count": 21,
   "metadata": {
    "ExecuteTime": {
     "end_time": "2021-10-28T11:16:03.505362Z",
     "start_time": "2021-10-28T11:16:03.497366Z"
    }
   },
   "outputs": [
    {
     "data": {
      "text/plain": [
       "False"
      ]
     },
     "execution_count": 21,
     "metadata": {},
     "output_type": "execute_result"
    }
   ],
   "source": [
    "'?' in data.horsepower"
   ]
  },
  {
   "cell_type": "code",
   "execution_count": 22,
   "metadata": {
    "ExecuteTime": {
     "end_time": "2021-10-28T11:16:05.007234Z",
     "start_time": "2021-10-28T11:16:04.999459Z"
    }
   },
   "outputs": [
    {
     "data": {
      "text/plain": [
       "(392, 9)"
      ]
     },
     "execution_count": 22,
     "metadata": {},
     "output_type": "execute_result"
    }
   ],
   "source": [
    "data.shape"
   ]
  },
  {
   "cell_type": "code",
   "execution_count": 23,
   "metadata": {
    "ExecuteTime": {
     "end_time": "2021-10-28T11:16:38.726098Z",
     "start_time": "2021-10-28T11:16:38.719670Z"
    }
   },
   "outputs": [],
   "source": [
    "#changing data type to float\n",
    "data.horsepower = data.horsepower.astype('float')\n"
   ]
  },
  {
   "cell_type": "code",
   "execution_count": 24,
   "metadata": {
    "ExecuteTime": {
     "end_time": "2021-10-28T11:16:41.116857Z",
     "start_time": "2021-10-28T11:16:41.109955Z"
    },
    "scrolled": true
   },
   "outputs": [
    {
     "data": {
      "text/plain": [
       "origin                   int64\n",
       "cylinders                int64\n",
       "displacement           float64\n",
       "horsepower             float64\n",
       "weight                   int64\n",
       "acceleration           float64\n",
       "year                     int64\n",
       "name                    object\n",
       "Kilometer_per_liter    float64\n",
       "dtype: object"
      ]
     },
     "execution_count": 24,
     "metadata": {},
     "output_type": "execute_result"
    }
   ],
   "source": [
    "data.dtypes\n"
   ]
  },
  {
   "cell_type": "markdown",
   "metadata": {},
   "source": [
    "**On to preparing the categorical features :**\n",
    "\n",
    "* model_year is ordinal. So we simply stick to dtype int.\n",
    "* origin is a true categorical. We need to one hot encode it later.\n",
    "* name actually contains two useful bits of information: the cars manufacturer and the model. We split that into two new columns."
   ]
  },
  {
   "cell_type": "code",
   "execution_count": 25,
   "metadata": {
    "ExecuteTime": {
     "end_time": "2021-10-28T11:46:58.005431Z",
     "start_time": "2021-10-28T11:46:58.000462Z"
    }
   },
   "outputs": [],
   "source": [
    "data_1 = data.copy(deep = True)"
   ]
  },
  {
   "cell_type": "code",
   "execution_count": 28,
   "metadata": {
    "ExecuteTime": {
     "end_time": "2021-10-28T11:48:10.426196Z",
     "start_time": "2021-10-28T11:48:10.406277Z"
    }
   },
   "outputs": [
    {
     "data": {
      "text/html": [
       "<div>\n",
       "<style scoped>\n",
       "    .dataframe tbody tr th:only-of-type {\n",
       "        vertical-align: middle;\n",
       "    }\n",
       "\n",
       "    .dataframe tbody tr th {\n",
       "        vertical-align: top;\n",
       "    }\n",
       "\n",
       "    .dataframe thead th {\n",
       "        text-align: right;\n",
       "    }\n",
       "</style>\n",
       "<table border=\"1\" class=\"dataframe\">\n",
       "  <thead>\n",
       "    <tr style=\"text-align: right;\">\n",
       "      <th></th>\n",
       "      <th>origin</th>\n",
       "      <th>cylinders</th>\n",
       "      <th>displacement</th>\n",
       "      <th>horsepower</th>\n",
       "      <th>weight</th>\n",
       "      <th>acceleration</th>\n",
       "      <th>year</th>\n",
       "      <th>name</th>\n",
       "      <th>Kilometer_per_liter</th>\n",
       "    </tr>\n",
       "  </thead>\n",
       "  <tbody>\n",
       "    <tr>\n",
       "      <th>0</th>\n",
       "      <td>1</td>\n",
       "      <td>8</td>\n",
       "      <td>307.00</td>\n",
       "      <td>130.00</td>\n",
       "      <td>3504</td>\n",
       "      <td>12.00</td>\n",
       "      <td>1970</td>\n",
       "      <td>chevrolet chevelle malibu</td>\n",
       "      <td>7.65</td>\n",
       "    </tr>\n",
       "    <tr>\n",
       "      <th>1</th>\n",
       "      <td>1</td>\n",
       "      <td>8</td>\n",
       "      <td>350.00</td>\n",
       "      <td>165.00</td>\n",
       "      <td>3693</td>\n",
       "      <td>11.50</td>\n",
       "      <td>1970</td>\n",
       "      <td>buick skylark 320</td>\n",
       "      <td>6.38</td>\n",
       "    </tr>\n",
       "    <tr>\n",
       "      <th>2</th>\n",
       "      <td>1</td>\n",
       "      <td>8</td>\n",
       "      <td>318.00</td>\n",
       "      <td>150.00</td>\n",
       "      <td>3436</td>\n",
       "      <td>11.00</td>\n",
       "      <td>1970</td>\n",
       "      <td>plymouth satellite</td>\n",
       "      <td>7.65</td>\n",
       "    </tr>\n",
       "    <tr>\n",
       "      <th>3</th>\n",
       "      <td>1</td>\n",
       "      <td>8</td>\n",
       "      <td>304.00</td>\n",
       "      <td>150.00</td>\n",
       "      <td>3433</td>\n",
       "      <td>12.00</td>\n",
       "      <td>1970</td>\n",
       "      <td>amc rebel sst</td>\n",
       "      <td>6.80</td>\n",
       "    </tr>\n",
       "    <tr>\n",
       "      <th>4</th>\n",
       "      <td>1</td>\n",
       "      <td>8</td>\n",
       "      <td>302.00</td>\n",
       "      <td>140.00</td>\n",
       "      <td>3449</td>\n",
       "      <td>10.50</td>\n",
       "      <td>1970</td>\n",
       "      <td>ford torino</td>\n",
       "      <td>7.23</td>\n",
       "    </tr>\n",
       "  </tbody>\n",
       "</table>\n",
       "</div>"
      ],
      "text/plain": [
       "  origin  cylinders  displacement  horsepower  weight  acceleration  year  \\\n",
       "0      1          8        307.00      130.00    3504         12.00  1970   \n",
       "1      1          8        350.00      165.00    3693         11.50  1970   \n",
       "2      1          8        318.00      150.00    3436         11.00  1970   \n",
       "3      1          8        304.00      150.00    3433         12.00  1970   \n",
       "4      1          8        302.00      140.00    3449         10.50  1970   \n",
       "\n",
       "                        name  Kilometer_per_liter  \n",
       "0  chevrolet chevelle malibu                 7.65  \n",
       "1          buick skylark 320                 6.38  \n",
       "2         plymouth satellite                 7.65  \n",
       "3              amc rebel sst                 6.80  \n",
       "4                ford torino                 7.23  "
      ]
     },
     "execution_count": 28,
     "metadata": {},
     "output_type": "execute_result"
    }
   ],
   "source": [
    "data_1.origin = data_1.origin.astype('object')\n",
    "data_1.head()"
   ]
  },
  {
   "cell_type": "code",
   "execution_count": 29,
   "metadata": {
    "ExecuteTime": {
     "end_time": "2021-10-28T11:49:35.741160Z",
     "start_time": "2021-10-28T11:49:35.715082Z"
    },
    "scrolled": true
   },
   "outputs": [
    {
     "data": {
      "text/html": [
       "<div>\n",
       "<style scoped>\n",
       "    .dataframe tbody tr th:only-of-type {\n",
       "        vertical-align: middle;\n",
       "    }\n",
       "\n",
       "    .dataframe tbody tr th {\n",
       "        vertical-align: top;\n",
       "    }\n",
       "\n",
       "    .dataframe thead th {\n",
       "        text-align: right;\n",
       "    }\n",
       "</style>\n",
       "<table border=\"1\" class=\"dataframe\">\n",
       "  <thead>\n",
       "    <tr style=\"text-align: right;\">\n",
       "      <th></th>\n",
       "      <th>origin</th>\n",
       "      <th>cylinders</th>\n",
       "      <th>displacement</th>\n",
       "      <th>horsepower</th>\n",
       "      <th>weight</th>\n",
       "      <th>acceleration</th>\n",
       "      <th>year</th>\n",
       "      <th>name</th>\n",
       "      <th>Kilometer_per_liter</th>\n",
       "      <th>manufacturer</th>\n",
       "      <th>model</th>\n",
       "    </tr>\n",
       "  </thead>\n",
       "  <tbody>\n",
       "    <tr>\n",
       "      <th>0</th>\n",
       "      <td>1</td>\n",
       "      <td>8</td>\n",
       "      <td>307.00</td>\n",
       "      <td>130.00</td>\n",
       "      <td>3504</td>\n",
       "      <td>12.00</td>\n",
       "      <td>1970</td>\n",
       "      <td>chevrolet chevelle malibu</td>\n",
       "      <td>7.65</td>\n",
       "      <td>chevrolet</td>\n",
       "      <td>chevelle malibu</td>\n",
       "    </tr>\n",
       "    <tr>\n",
       "      <th>1</th>\n",
       "      <td>1</td>\n",
       "      <td>8</td>\n",
       "      <td>350.00</td>\n",
       "      <td>165.00</td>\n",
       "      <td>3693</td>\n",
       "      <td>11.50</td>\n",
       "      <td>1970</td>\n",
       "      <td>buick skylark 320</td>\n",
       "      <td>6.38</td>\n",
       "      <td>buick</td>\n",
       "      <td>skylark 320</td>\n",
       "    </tr>\n",
       "    <tr>\n",
       "      <th>2</th>\n",
       "      <td>1</td>\n",
       "      <td>8</td>\n",
       "      <td>318.00</td>\n",
       "      <td>150.00</td>\n",
       "      <td>3436</td>\n",
       "      <td>11.00</td>\n",
       "      <td>1970</td>\n",
       "      <td>plymouth satellite</td>\n",
       "      <td>7.65</td>\n",
       "      <td>plymouth</td>\n",
       "      <td>satellite</td>\n",
       "    </tr>\n",
       "    <tr>\n",
       "      <th>3</th>\n",
       "      <td>1</td>\n",
       "      <td>8</td>\n",
       "      <td>304.00</td>\n",
       "      <td>150.00</td>\n",
       "      <td>3433</td>\n",
       "      <td>12.00</td>\n",
       "      <td>1970</td>\n",
       "      <td>amc rebel sst</td>\n",
       "      <td>6.80</td>\n",
       "      <td>amc</td>\n",
       "      <td>rebel sst</td>\n",
       "    </tr>\n",
       "    <tr>\n",
       "      <th>4</th>\n",
       "      <td>1</td>\n",
       "      <td>8</td>\n",
       "      <td>302.00</td>\n",
       "      <td>140.00</td>\n",
       "      <td>3449</td>\n",
       "      <td>10.50</td>\n",
       "      <td>1970</td>\n",
       "      <td>ford torino</td>\n",
       "      <td>7.23</td>\n",
       "      <td>ford</td>\n",
       "      <td>torino</td>\n",
       "    </tr>\n",
       "  </tbody>\n",
       "</table>\n",
       "</div>"
      ],
      "text/plain": [
       "  origin  cylinders  displacement  horsepower  weight  acceleration  year  \\\n",
       "0      1          8        307.00      130.00    3504         12.00  1970   \n",
       "1      1          8        350.00      165.00    3693         11.50  1970   \n",
       "2      1          8        318.00      150.00    3436         11.00  1970   \n",
       "3      1          8        304.00      150.00    3433         12.00  1970   \n",
       "4      1          8        302.00      140.00    3449         10.50  1970   \n",
       "\n",
       "                        name  Kilometer_per_liter manufacturer  \\\n",
       "0  chevrolet chevelle malibu                 7.65    chevrolet   \n",
       "1          buick skylark 320                 6.38        buick   \n",
       "2         plymouth satellite                 7.65     plymouth   \n",
       "3              amc rebel sst                 6.80          amc   \n",
       "4                ford torino                 7.23         ford   \n",
       "\n",
       "             model  \n",
       "0  chevelle malibu  \n",
       "1      skylark 320  \n",
       "2        satellite  \n",
       "3        rebel sst  \n",
       "4           torino  "
      ]
     },
     "execution_count": 29,
     "metadata": {},
     "output_type": "execute_result"
    }
   ],
   "source": [
    "# split() with expand=True yields one column per list element\n",
    "# we only split on the first space by setting n=1\n",
    "\n",
    "data_1[[\"manufacturer\", \"model\"]] = data_1[\"name\"].str.split(\" \", n=1, expand=True)\n",
    "data_1.head()"
   ]
  },
  {
   "cell_type": "code",
   "execution_count": 30,
   "metadata": {
    "ExecuteTime": {
     "end_time": "2021-10-28T11:51:43.843860Z",
     "start_time": "2021-10-28T11:51:43.821940Z"
    }
   },
   "outputs": [
    {
     "data": {
      "text/html": [
       "<div>\n",
       "<style scoped>\n",
       "    .dataframe tbody tr th:only-of-type {\n",
       "        vertical-align: middle;\n",
       "    }\n",
       "\n",
       "    .dataframe tbody tr th {\n",
       "        vertical-align: top;\n",
       "    }\n",
       "\n",
       "    .dataframe thead th {\n",
       "        text-align: right;\n",
       "    }\n",
       "</style>\n",
       "<table border=\"1\" class=\"dataframe\">\n",
       "  <thead>\n",
       "    <tr style=\"text-align: right;\">\n",
       "      <th></th>\n",
       "      <th>0</th>\n",
       "      <th>1</th>\n",
       "      <th>2</th>\n",
       "      <th>3</th>\n",
       "      <th>4</th>\n",
       "    </tr>\n",
       "  </thead>\n",
       "  <tbody>\n",
       "    <tr>\n",
       "      <th>origin</th>\n",
       "      <td>1</td>\n",
       "      <td>1</td>\n",
       "      <td>1</td>\n",
       "      <td>1</td>\n",
       "      <td>1</td>\n",
       "    </tr>\n",
       "    <tr>\n",
       "      <th>cylinders</th>\n",
       "      <td>8</td>\n",
       "      <td>8</td>\n",
       "      <td>8</td>\n",
       "      <td>8</td>\n",
       "      <td>8</td>\n",
       "    </tr>\n",
       "    <tr>\n",
       "      <th>displacement</th>\n",
       "      <td>307.00</td>\n",
       "      <td>350.00</td>\n",
       "      <td>318.00</td>\n",
       "      <td>304.00</td>\n",
       "      <td>302.00</td>\n",
       "    </tr>\n",
       "    <tr>\n",
       "      <th>horsepower</th>\n",
       "      <td>130.00</td>\n",
       "      <td>165.00</td>\n",
       "      <td>150.00</td>\n",
       "      <td>150.00</td>\n",
       "      <td>140.00</td>\n",
       "    </tr>\n",
       "    <tr>\n",
       "      <th>weight</th>\n",
       "      <td>3504</td>\n",
       "      <td>3693</td>\n",
       "      <td>3436</td>\n",
       "      <td>3433</td>\n",
       "      <td>3449</td>\n",
       "    </tr>\n",
       "    <tr>\n",
       "      <th>acceleration</th>\n",
       "      <td>12.00</td>\n",
       "      <td>11.50</td>\n",
       "      <td>11.00</td>\n",
       "      <td>12.00</td>\n",
       "      <td>10.50</td>\n",
       "    </tr>\n",
       "    <tr>\n",
       "      <th>year</th>\n",
       "      <td>1970</td>\n",
       "      <td>1970</td>\n",
       "      <td>1970</td>\n",
       "      <td>1970</td>\n",
       "      <td>1970</td>\n",
       "    </tr>\n",
       "    <tr>\n",
       "      <th>Kilometer_per_liter</th>\n",
       "      <td>7.65</td>\n",
       "      <td>6.38</td>\n",
       "      <td>7.65</td>\n",
       "      <td>6.80</td>\n",
       "      <td>7.23</td>\n",
       "    </tr>\n",
       "    <tr>\n",
       "      <th>manufacturer</th>\n",
       "      <td>chevrolet</td>\n",
       "      <td>buick</td>\n",
       "      <td>plymouth</td>\n",
       "      <td>amc</td>\n",
       "      <td>ford</td>\n",
       "    </tr>\n",
       "    <tr>\n",
       "      <th>model</th>\n",
       "      <td>chevelle malibu</td>\n",
       "      <td>skylark 320</td>\n",
       "      <td>satellite</td>\n",
       "      <td>rebel sst</td>\n",
       "      <td>torino</td>\n",
       "    </tr>\n",
       "  </tbody>\n",
       "</table>\n",
       "</div>"
      ],
      "text/plain": [
       "                                   0            1          2          3  \\\n",
       "origin                             1            1          1          1   \n",
       "cylinders                          8            8          8          8   \n",
       "displacement                  307.00       350.00     318.00     304.00   \n",
       "horsepower                    130.00       165.00     150.00     150.00   \n",
       "weight                          3504         3693       3436       3433   \n",
       "acceleration                   12.00        11.50      11.00      12.00   \n",
       "year                            1970         1970       1970       1970   \n",
       "Kilometer_per_liter             7.65         6.38       7.65       6.80   \n",
       "manufacturer               chevrolet        buick   plymouth        amc   \n",
       "model                chevelle malibu  skylark 320  satellite  rebel sst   \n",
       "\n",
       "                          4  \n",
       "origin                    1  \n",
       "cylinders                 8  \n",
       "displacement         302.00  \n",
       "horsepower           140.00  \n",
       "weight                 3449  \n",
       "acceleration          10.50  \n",
       "year                   1970  \n",
       "Kilometer_per_liter    7.23  \n",
       "manufacturer           ford  \n",
       "model                torino  "
      ]
     },
     "execution_count": 30,
     "metadata": {},
     "output_type": "execute_result"
    }
   ],
   "source": [
    "data_1.drop(\"name\", axis=1, inplace=True)\n",
    "data_1.head(5).T # T = transpose rows ka colunms and columns ka row"
   ]
  },
  {
   "cell_type": "code",
   "execution_count": 31,
   "metadata": {
    "ExecuteTime": {
     "end_time": "2021-10-28T11:52:26.673322Z",
     "start_time": "2021-10-28T11:52:26.668207Z"
    }
   },
   "outputs": [
    {
     "name": "stdout",
     "output_type": "stream",
     "text": [
      "['amc', 'audi', 'bmw', 'buick', 'cadillac', 'capri', 'chevroelt', 'chevrolet', 'chevy', 'chrysler', 'datsun', 'dodge', 'fiat', 'ford', 'hi', 'honda', 'maxda', 'mazda', 'mercedes', 'mercedes-benz', 'mercury', 'nissan', 'oldsmobile', 'opel', 'peugeot', 'plymouth', 'pontiac', 'renault', 'saab', 'subaru', 'toyota', 'toyouta', 'triumph', 'vokswagen', 'volkswagen', 'volvo', 'vw']\n"
     ]
    }
   ],
   "source": [
    "print(sorted(data_1.manufacturer.unique()))"
   ]
  },
  {
   "cell_type": "markdown",
   "metadata": {},
   "source": [
    "**There are several errors in the manufacturers names. E.g. «vokswagen», «maxda» etc. We fix these by replacing the wrong entries. We also fix some synomyms like «vw».**"
   ]
  },
  {
   "cell_type": "code",
   "execution_count": 32,
   "metadata": {
    "ExecuteTime": {
     "end_time": "2021-10-28T11:57:55.935105Z",
     "start_time": "2021-10-28T11:57:55.924740Z"
    }
   },
   "outputs": [],
   "source": [
    "errors = {\n",
    "         \"vokswagen\" : \"volkswagen\", \n",
    "         \"vw\" : \"volkswagen\", \n",
    "         \"toyouta\" : \"toyota\", \n",
    "         \"mercedes-benz\" : \"mercedes\", \n",
    "         \"chevroelt\": \"chevrolet\",\n",
    "         \"chevy\" : \"chevrolet\", \n",
    "         \"maxda\" : \"mazda\"\n",
    "         }\n",
    "\n",
    "data_1.manufacturer = data_1.manufacturer.map(errors).fillna(data_1.manufacturer)"
   ]
  },
  {
   "cell_type": "code",
   "execution_count": 33,
   "metadata": {
    "ExecuteTime": {
     "end_time": "2021-10-28T11:57:57.259953Z",
     "start_time": "2021-10-28T11:57:57.249846Z"
    }
   },
   "outputs": [
    {
     "data": {
      "text/plain": [
       "ford          48\n",
       "chevrolet     47\n",
       "plymouth      31\n",
       "dodge         28\n",
       "amc           27\n",
       "toyota        26\n",
       "datsun        23\n",
       "volkswagen    22\n",
       "buick         17\n",
       "pontiac       16\n",
       "honda         13\n",
       "mazda         12\n",
       "mercury       11\n",
       "oldsmobile    10\n",
       "peugeot        8\n",
       "fiat           8\n",
       "audi           7\n",
       "volvo          6\n",
       "chrysler       6\n",
       "opel           4\n",
       "saab           4\n",
       "subaru         4\n",
       "mercedes       3\n",
       "renault        3\n",
       "bmw            2\n",
       "cadillac       2\n",
       "nissan         1\n",
       "capri          1\n",
       "hi             1\n",
       "triumph        1\n",
       "Name: manufacturer, dtype: int64"
      ]
     },
     "execution_count": 33,
     "metadata": {},
     "output_type": "execute_result"
    }
   ],
   "source": [
    "data_1['manufacturer'].value_counts()"
   ]
  },
  {
   "cell_type": "code",
   "execution_count": 34,
   "metadata": {
    "ExecuteTime": {
     "end_time": "2021-10-28T11:58:02.935937Z",
     "start_time": "2021-10-28T11:58:02.931086Z"
    }
   },
   "outputs": [
    {
     "name": "stdout",
     "output_type": "stream",
     "text": [
      "['amc', 'audi', 'bmw', 'buick', 'cadillac', 'capri', 'chevrolet', 'chrysler', 'datsun', 'dodge', 'fiat', 'ford', 'hi', 'honda', 'mazda', 'mercedes', 'mercury', 'nissan', 'oldsmobile', 'opel', 'peugeot', 'plymouth', 'pontiac', 'renault', 'saab', 'subaru', 'toyota', 'triumph', 'volkswagen', 'volvo']\n"
     ]
    }
   ],
   "source": [
    "print(sorted(data_1.manufacturer.unique()))"
   ]
  },
  {
   "cell_type": "markdown",
   "metadata": {},
   "source": [
    "**Some model names also seem redundant or wrong.**\n",
    "\n",
    "Hand checking would be way too time-consuming so we only improve this features brute-force by removing all special characters."
   ]
  },
  {
   "cell_type": "code",
   "execution_count": 35,
   "metadata": {
    "ExecuteTime": {
     "end_time": "2021-10-28T12:09:18.613656Z",
     "start_time": "2021-10-28T12:09:18.600702Z"
    }
   },
   "outputs": [
    {
     "name": "stdout",
     "output_type": "stream",
     "text": [
      "296\n"
     ]
    }
   ],
   "source": [
    "print(len(data_1.model.unique()))"
   ]
  },
  {
   "cell_type": "code",
   "execution_count": 36,
   "metadata": {
    "ExecuteTime": {
     "end_time": "2021-10-28T12:09:19.596390Z",
     "start_time": "2021-10-28T12:09:19.581084Z"
    }
   },
   "outputs": [],
   "source": [
    "import re\n",
    "def alphanumeric(x):\n",
    "    return re.sub('[^A-Za-z0-9]+', '', (str(x)))\n",
    "\n",
    "data_1[\"model\"] = data_1.model.apply(lambda x: alphanumeric(x))"
   ]
  },
  {
   "cell_type": "code",
   "execution_count": 37,
   "metadata": {
    "ExecuteTime": {
     "end_time": "2021-10-28T12:09:20.676619Z",
     "start_time": "2021-10-28T12:09:20.669287Z"
    }
   },
   "outputs": [
    {
     "name": "stdout",
     "output_type": "stream",
     "text": [
      "293\n"
     ]
    }
   ],
   "source": [
    "print(len(data_1.model.unique()))"
   ]
  },
  {
   "cell_type": "markdown",
   "metadata": {},
   "source": [
    "**Now everything looks in order so let's describe the dataset**\n",
    "\n",
    "Note: We can further clean the Model names manually by identifying similar names, but that would be time consuming."
   ]
  },
  {
   "cell_type": "markdown",
   "metadata": {},
   "source": [
    "<a id='Statistical_Summary'></a>\n",
    "## 3.4 Statistical Summary\n",
    "Here we take a look at the summary of each attribute. This includes the count, mean, the min and max values as well as some percentiles for numeric variables."
   ]
  },
  {
   "cell_type": "markdown",
   "metadata": {},
   "source": [
    "<table align=\"left\">\n",
    "    <tr>\n",
    "        <td width=\"8%\">\n",
    "            <img src=\"key.png\">\n",
    "        </td>\n",
    "        <td>\n",
    "            <div align=\"left\", style=\"font-size:120%\">\n",
    "                    <b> In our dataset we have numerical variables. Now we check for summary statistics of all the variables<br>\n",
    "                        For numerical variables, we use .describe(). For categorical variables we use describe(include='object').\n",
    "          <br>\n",
    "                    </b>\n",
    "                </font>\n",
    "            </div>\n",
    "        </td>\n",
    "    </tr>\n",
    "</table>"
   ]
  },
  {
   "cell_type": "code",
   "execution_count": 38,
   "metadata": {
    "ExecuteTime": {
     "end_time": "2021-10-28T12:17:05.268087Z",
     "start_time": "2021-10-28T12:17:05.227161Z"
    }
   },
   "outputs": [
    {
     "data": {
      "text/html": [
       "<div>\n",
       "<style scoped>\n",
       "    .dataframe tbody tr th:only-of-type {\n",
       "        vertical-align: middle;\n",
       "    }\n",
       "\n",
       "    .dataframe tbody tr th {\n",
       "        vertical-align: top;\n",
       "    }\n",
       "\n",
       "    .dataframe thead th {\n",
       "        text-align: right;\n",
       "    }\n",
       "</style>\n",
       "<table border=\"1\" class=\"dataframe\">\n",
       "  <thead>\n",
       "    <tr style=\"text-align: right;\">\n",
       "      <th></th>\n",
       "      <th>cylinders</th>\n",
       "      <th>displacement</th>\n",
       "      <th>horsepower</th>\n",
       "      <th>weight</th>\n",
       "      <th>acceleration</th>\n",
       "      <th>year</th>\n",
       "      <th>Kilometer_per_liter</th>\n",
       "    </tr>\n",
       "  </thead>\n",
       "  <tbody>\n",
       "    <tr>\n",
       "      <th>count</th>\n",
       "      <td>392.00</td>\n",
       "      <td>392.00</td>\n",
       "      <td>392.00</td>\n",
       "      <td>392.00</td>\n",
       "      <td>392.00</td>\n",
       "      <td>392.00</td>\n",
       "      <td>392.00</td>\n",
       "    </tr>\n",
       "    <tr>\n",
       "      <th>mean</th>\n",
       "      <td>5.47</td>\n",
       "      <td>194.41</td>\n",
       "      <td>104.47</td>\n",
       "      <td>2977.58</td>\n",
       "      <td>15.54</td>\n",
       "      <td>1975.98</td>\n",
       "      <td>9.97</td>\n",
       "    </tr>\n",
       "    <tr>\n",
       "      <th>std</th>\n",
       "      <td>1.71</td>\n",
       "      <td>104.64</td>\n",
       "      <td>38.49</td>\n",
       "      <td>849.40</td>\n",
       "      <td>2.76</td>\n",
       "      <td>3.68</td>\n",
       "      <td>3.32</td>\n",
       "    </tr>\n",
       "    <tr>\n",
       "      <th>min</th>\n",
       "      <td>3.00</td>\n",
       "      <td>68.00</td>\n",
       "      <td>46.00</td>\n",
       "      <td>1613.00</td>\n",
       "      <td>8.00</td>\n",
       "      <td>1970.00</td>\n",
       "      <td>3.83</td>\n",
       "    </tr>\n",
       "    <tr>\n",
       "      <th>25%</th>\n",
       "      <td>4.00</td>\n",
       "      <td>105.00</td>\n",
       "      <td>75.00</td>\n",
       "      <td>2225.25</td>\n",
       "      <td>13.78</td>\n",
       "      <td>1973.00</td>\n",
       "      <td>7.23</td>\n",
       "    </tr>\n",
       "    <tr>\n",
       "      <th>50%</th>\n",
       "      <td>4.00</td>\n",
       "      <td>151.00</td>\n",
       "      <td>93.50</td>\n",
       "      <td>2803.50</td>\n",
       "      <td>15.50</td>\n",
       "      <td>1976.00</td>\n",
       "      <td>9.67</td>\n",
       "    </tr>\n",
       "    <tr>\n",
       "      <th>75%</th>\n",
       "      <td>8.00</td>\n",
       "      <td>275.75</td>\n",
       "      <td>126.00</td>\n",
       "      <td>3614.75</td>\n",
       "      <td>17.02</td>\n",
       "      <td>1979.00</td>\n",
       "      <td>12.33</td>\n",
       "    </tr>\n",
       "    <tr>\n",
       "      <th>max</th>\n",
       "      <td>8.00</td>\n",
       "      <td>455.00</td>\n",
       "      <td>230.00</td>\n",
       "      <td>5140.00</td>\n",
       "      <td>24.80</td>\n",
       "      <td>1982.00</td>\n",
       "      <td>19.81</td>\n",
       "    </tr>\n",
       "  </tbody>\n",
       "</table>\n",
       "</div>"
      ],
      "text/plain": [
       "       cylinders  displacement  horsepower  weight  acceleration    year  \\\n",
       "count     392.00        392.00      392.00  392.00        392.00  392.00   \n",
       "mean        5.47        194.41      104.47 2977.58         15.54 1975.98   \n",
       "std         1.71        104.64       38.49  849.40          2.76    3.68   \n",
       "min         3.00         68.00       46.00 1613.00          8.00 1970.00   \n",
       "25%         4.00        105.00       75.00 2225.25         13.78 1973.00   \n",
       "50%         4.00        151.00       93.50 2803.50         15.50 1976.00   \n",
       "75%         8.00        275.75      126.00 3614.75         17.02 1979.00   \n",
       "max         8.00        455.00      230.00 5140.00         24.80 1982.00   \n",
       "\n",
       "       Kilometer_per_liter  \n",
       "count               392.00  \n",
       "mean                  9.97  \n",
       "std                   3.32  \n",
       "min                   3.83  \n",
       "25%                   7.23  \n",
       "50%                   9.67  \n",
       "75%                  12.33  \n",
       "max                  19.81  "
      ]
     },
     "execution_count": 38,
     "metadata": {},
     "output_type": "execute_result"
    }
   ],
   "source": [
    "# data frame with numerical features\n",
    "data_1.describe()"
   ]
  },
  {
   "cell_type": "markdown",
   "metadata": {},
   "source": [
    "<table align=\"left\">\n",
    "    <tr>\n",
    "        <td width=\"8%\">\n",
    "            <img src=\"note.png\">\n",
    "        </td>\n",
    "        <td>\n",
    "            <div align=\"left\", style=\"font-size:120%\">\n",
    "<b>The above output illustrates the summary statistics of all the numeric variables like the mean, median(50%), minimum, and maximum values, along with the standard deviation.</b>     </font>\n",
    "            </div>\n",
    "        </td>\n",
    "    </tr>\n",
    "</table>"
   ]
  },
  {
   "cell_type": "code",
   "execution_count": 39,
   "metadata": {
    "ExecuteTime": {
     "end_time": "2021-10-28T12:17:10.047150Z",
     "start_time": "2021-10-28T12:17:10.005033Z"
    }
   },
   "outputs": [
    {
     "data": {
      "text/html": [
       "<div>\n",
       "<style scoped>\n",
       "    .dataframe tbody tr th:only-of-type {\n",
       "        vertical-align: middle;\n",
       "    }\n",
       "\n",
       "    .dataframe tbody tr th {\n",
       "        vertical-align: top;\n",
       "    }\n",
       "\n",
       "    .dataframe thead th {\n",
       "        text-align: right;\n",
       "    }\n",
       "</style>\n",
       "<table border=\"1\" class=\"dataframe\">\n",
       "  <thead>\n",
       "    <tr style=\"text-align: right;\">\n",
       "      <th></th>\n",
       "      <th>origin</th>\n",
       "      <th>manufacturer</th>\n",
       "      <th>model</th>\n",
       "    </tr>\n",
       "  </thead>\n",
       "  <tbody>\n",
       "    <tr>\n",
       "      <th>count</th>\n",
       "      <td>392</td>\n",
       "      <td>392</td>\n",
       "      <td>392</td>\n",
       "    </tr>\n",
       "    <tr>\n",
       "      <th>unique</th>\n",
       "      <td>3</td>\n",
       "      <td>30</td>\n",
       "      <td>293</td>\n",
       "    </tr>\n",
       "    <tr>\n",
       "      <th>top</th>\n",
       "      <td>1</td>\n",
       "      <td>ford</td>\n",
       "      <td>pinto</td>\n",
       "    </tr>\n",
       "    <tr>\n",
       "      <th>freq</th>\n",
       "      <td>245</td>\n",
       "      <td>48</td>\n",
       "      <td>5</td>\n",
       "    </tr>\n",
       "  </tbody>\n",
       "</table>\n",
       "</div>"
      ],
      "text/plain": [
       "        origin manufacturer  model\n",
       "count      392          392    392\n",
       "unique       3           30    293\n",
       "top          1         ford  pinto\n",
       "freq       245           48      5"
      ]
     },
     "execution_count": 39,
     "metadata": {},
     "output_type": "execute_result"
    }
   ],
   "source": [
    "# data frame with categorical features\n",
    "data_1.describe(include='object')"
   ]
  },
  {
   "cell_type": "markdown",
   "metadata": {},
   "source": [
    "<table align=\"left\">\n",
    "    <tr>\n",
    "        <td width=\"8%\">\n",
    "            <img src=\"note.png\">\n",
    "        </td>\n",
    "        <td>\n",
    "            <div align=\"left\", style=\"font-size:120%\">\n",
    "<b>The above output illustrates the summary statistics of the categorical variables i.e diagnosis(no.of levels in the variable), top(majority level) and the count of the majority level.</b>     </font>\n",
    "            </div>\n",
    "        </td>\n",
    "    </tr>\n",
    "</table>"
   ]
  },
  {
   "cell_type": "markdown",
   "metadata": {},
   "source": [
    "<a id='EDA'></a>\n",
    "## 4. EDA\n"
   ]
  },
  {
   "cell_type": "markdown",
   "metadata": {},
   "source": [
    "**PDF's of features**"
   ]
  },
  {
   "cell_type": "code",
   "execution_count": 40,
   "metadata": {
    "ExecuteTime": {
     "end_time": "2021-10-28T12:23:50.840793Z",
     "start_time": "2021-10-28T12:23:50.180245Z"
    }
   },
   "outputs": [
    {
     "data": {
      "image/png": "[encoded data removed]",
      "text/plain": [
       "<Figure size 1296x1296 with 9 Axes>"
      ]
     },
     "metadata": {},
     "output_type": "display_data"
    }
   ],
   "source": [
    "fig = data_1.hist(figsize = (18,18))\n"
   ]
  },
  {
   "cell_type": "markdown",
   "metadata": {},
   "source": [
    "<a id='Univariate_Analysis'></a>\n",
    "## 4.1 Univariate Analysis"
   ]
  },
  {
   "cell_type": "markdown",
   "metadata": {},
   "source": [
    "**1. Kilometer_per_liter**"
   ]
  },
  {
   "cell_type": "code",
   "execution_count": 41,
   "metadata": {
    "ExecuteTime": {
     "end_time": "2021-10-28T12:25:50.375731Z",
     "start_time": "2021-10-28T12:25:50.361804Z"
    }
   },
   "outputs": [
    {
     "data": {
      "text/plain": [
       "count   392.00\n",
       "mean      9.97\n",
       "std       3.32\n",
       "min       3.83\n",
       "25%       7.23\n",
       "50%       9.67\n",
       "75%      12.33\n",
       "max      19.81\n",
       "Name: Kilometer_per_liter, dtype: float64"
      ]
     },
     "execution_count": 41,
     "metadata": {},
     "output_type": "execute_result"
    }
   ],
   "source": [
    "data_1.Kilometer_per_liter.describe()\n"
   ]
  },
  {
   "cell_type": "markdown",
   "metadata": {},
   "source": [
    "**So the minimum value is 3 and maximum is 46, but on average it is 23.44 with a variation of 7.8**"
   ]
  },
  {
   "cell_type": "code",
   "execution_count": 42,
   "metadata": {
    "ExecuteTime": {
     "end_time": "2021-10-28T12:32:26.456128Z",
     "start_time": "2021-10-28T12:32:26.307097Z"
    }
   },
   "outputs": [
    {
     "data": {
      "text/plain": [
       "<AxesSubplot:xlabel='Kilometer_per_liter', ylabel='Density'>"
      ]
     },
     "execution_count": 42,
     "metadata": {},
     "output_type": "execute_result"
    },
    {
     "data": {
      "image/png": "[encoded data removed]",
      "text/plain": [
       "<Figure size 1080x576 with 1 Axes>"
      ]
     },
     "metadata": {},
     "output_type": "display_data"
    }
   ],
   "source": [
    "sns.distplot(data_1.Kilometer_per_liter)"
   ]
  },
  {
   "cell_type": "code",
   "execution_count": 43,
   "metadata": {
    "ExecuteTime": {
     "end_time": "2021-10-28T12:32:36.070224Z",
     "start_time": "2021-10-28T12:32:35.921766Z"
    }
   },
   "outputs": [
    {
     "name": "stdout",
     "output_type": "stream",
     "text": [
      "We expect that our data points will be on red line for gaussian distributin. We see dist tails\n"
     ]
    },
    {
     "data": {
      "image/png": "[encoded data removed]",
      "text/plain": [
       "<Figure size 1440x504 with 1 Axes>"
      ]
     },
     "metadata": {},
     "output_type": "display_data"
    }
   ],
   "source": [
    "# qq plot:\n",
    "plt.figure(figsize = (20,7))\n",
    "stats.probplot(data[\"Kilometer_per_liter\"],plot=plt)\n",
    "plt.show\n",
    "print(\"We expect that our data points will be on red line for gaussian distributin. We see dist tails\")\n"
   ]
  },
  {
   "cell_type": "code",
   "execution_count": 44,
   "metadata": {
    "ExecuteTime": {
     "end_time": "2021-10-28T12:33:06.943417Z",
     "start_time": "2021-10-28T12:33:06.934643Z"
    }
   },
   "outputs": [
    {
     "name": "stdout",
     "output_type": "stream",
     "text": [
      "Skewness: 0.457092\n",
      "Kurtosis: -0.515993\n"
     ]
    }
   ],
   "source": [
    "print(\"Skewness: %f\" % data['Kilometer_per_liter'].skew())\n",
    "print(\"Kurtosis: %f\" % data['Kilometer_per_liter'].kurt())"
   ]
  },
  {
   "cell_type": "markdown",
   "metadata": {},
   "source": [
    "**We can see that Kilometer_per_liter is not normally distributed**\n",
    "\n",
    "**Reference:**\n",
    "<img src=\"https://www.epixanalytics.com/modelassist/AtRisk/images/15/image403.gif\">"
   ]
  },
  {
   "cell_type": "markdown",
   "metadata": {},
   "source": [
    "**Log-Transformation**"
   ]
  },
  {
   "cell_type": "code",
   "execution_count": 45,
   "metadata": {
    "ExecuteTime": {
     "end_time": "2021-10-28T12:33:25.474154Z",
     "start_time": "2021-10-28T12:33:25.469014Z"
    }
   },
   "outputs": [],
   "source": [
    "data_2 = data_1.copy(deep = True)"
   ]
  },
  {
   "cell_type": "code",
   "execution_count": 46,
   "metadata": {
    "ExecuteTime": {
     "end_time": "2021-10-28T12:33:27.090952Z",
     "start_time": "2021-10-28T12:33:27.086034Z"
    }
   },
   "outputs": [],
   "source": [
    "data_2['log_mileage'] = np.log(data_2.Kilometer_per_liter)"
   ]
  },
  {
   "cell_type": "code",
   "execution_count": 47,
   "metadata": {
    "ExecuteTime": {
     "end_time": "2021-10-28T12:33:31.462363Z",
     "start_time": "2021-10-28T12:33:31.442647Z"
    }
   },
   "outputs": [
    {
     "data": {
      "text/html": [
       "<div>\n",
       "<style scoped>\n",
       "    .dataframe tbody tr th:only-of-type {\n",
       "        vertical-align: middle;\n",
       "    }\n",
       "\n",
       "    .dataframe tbody tr th {\n",
       "        vertical-align: top;\n",
       "    }\n",
       "\n",
       "    .dataframe thead th {\n",
       "        text-align: right;\n",
       "    }\n",
       "</style>\n",
       "<table border=\"1\" class=\"dataframe\">\n",
       "  <thead>\n",
       "    <tr style=\"text-align: right;\">\n",
       "      <th></th>\n",
       "      <th>origin</th>\n",
       "      <th>cylinders</th>\n",
       "      <th>displacement</th>\n",
       "      <th>horsepower</th>\n",
       "      <th>weight</th>\n",
       "      <th>acceleration</th>\n",
       "      <th>year</th>\n",
       "      <th>Kilometer_per_liter</th>\n",
       "      <th>manufacturer</th>\n",
       "      <th>model</th>\n",
       "      <th>log_mileage</th>\n",
       "    </tr>\n",
       "  </thead>\n",
       "  <tbody>\n",
       "    <tr>\n",
       "      <th>0</th>\n",
       "      <td>1</td>\n",
       "      <td>8</td>\n",
       "      <td>307.00</td>\n",
       "      <td>130.00</td>\n",
       "      <td>3504</td>\n",
       "      <td>12.00</td>\n",
       "      <td>1970</td>\n",
       "      <td>7.65</td>\n",
       "      <td>chevrolet</td>\n",
       "      <td>chevellemalibu</td>\n",
       "      <td>2.04</td>\n",
       "    </tr>\n",
       "    <tr>\n",
       "      <th>1</th>\n",
       "      <td>1</td>\n",
       "      <td>8</td>\n",
       "      <td>350.00</td>\n",
       "      <td>165.00</td>\n",
       "      <td>3693</td>\n",
       "      <td>11.50</td>\n",
       "      <td>1970</td>\n",
       "      <td>6.38</td>\n",
       "      <td>buick</td>\n",
       "      <td>skylark320</td>\n",
       "      <td>1.85</td>\n",
       "    </tr>\n",
       "    <tr>\n",
       "      <th>2</th>\n",
       "      <td>1</td>\n",
       "      <td>8</td>\n",
       "      <td>318.00</td>\n",
       "      <td>150.00</td>\n",
       "      <td>3436</td>\n",
       "      <td>11.00</td>\n",
       "      <td>1970</td>\n",
       "      <td>7.65</td>\n",
       "      <td>plymouth</td>\n",
       "      <td>satellite</td>\n",
       "      <td>2.04</td>\n",
       "    </tr>\n",
       "    <tr>\n",
       "      <th>3</th>\n",
       "      <td>1</td>\n",
       "      <td>8</td>\n",
       "      <td>304.00</td>\n",
       "      <td>150.00</td>\n",
       "      <td>3433</td>\n",
       "      <td>12.00</td>\n",
       "      <td>1970</td>\n",
       "      <td>6.80</td>\n",
       "      <td>amc</td>\n",
       "      <td>rebelsst</td>\n",
       "      <td>1.92</td>\n",
       "    </tr>\n",
       "    <tr>\n",
       "      <th>4</th>\n",
       "      <td>1</td>\n",
       "      <td>8</td>\n",
       "      <td>302.00</td>\n",
       "      <td>140.00</td>\n",
       "      <td>3449</td>\n",
       "      <td>10.50</td>\n",
       "      <td>1970</td>\n",
       "      <td>7.23</td>\n",
       "      <td>ford</td>\n",
       "      <td>torino</td>\n",
       "      <td>1.98</td>\n",
       "    </tr>\n",
       "  </tbody>\n",
       "</table>\n",
       "</div>"
      ],
      "text/plain": [
       "  origin  cylinders  displacement  horsepower  weight  acceleration  year  \\\n",
       "0      1          8        307.00      130.00    3504         12.00  1970   \n",
       "1      1          8        350.00      165.00    3693         11.50  1970   \n",
       "2      1          8        318.00      150.00    3436         11.00  1970   \n",
       "3      1          8        304.00      150.00    3433         12.00  1970   \n",
       "4      1          8        302.00      140.00    3449         10.50  1970   \n",
       "\n",
       "   Kilometer_per_liter manufacturer           model  log_mileage  \n",
       "0                 7.65    chevrolet  chevellemalibu         2.04  \n",
       "1                 6.38        buick      skylark320         1.85  \n",
       "2                 7.65     plymouth       satellite         2.04  \n",
       "3                 6.80          amc        rebelsst         1.92  \n",
       "4                 7.23         ford          torino         1.98  "
      ]
     },
     "execution_count": 47,
     "metadata": {},
     "output_type": "execute_result"
    }
   ],
   "source": [
    "data_2.head()"
   ]
  },
  {
   "cell_type": "code",
   "execution_count": 48,
   "metadata": {
    "ExecuteTime": {
     "end_time": "2021-10-28T12:33:42.189857Z",
     "start_time": "2021-10-28T12:33:42.045939Z"
    }
   },
   "outputs": [
    {
     "data": {
      "text/plain": [
       "<AxesSubplot:xlabel='log_mileage', ylabel='Density'>"
      ]
     },
     "execution_count": 48,
     "metadata": {},
     "output_type": "execute_result"
    },
    {
     "data": {
      "image/png": "[encoded data removed]",
      "text/plain": [
       "<Figure size 1080x576 with 1 Axes>"
      ]
     },
     "metadata": {},
     "output_type": "display_data"
    }
   ],
   "source": [
    "sns.distplot(data_2.log_mileage)"
   ]
  },
  {
   "cell_type": "code",
   "execution_count": 49,
   "metadata": {
    "ExecuteTime": {
     "end_time": "2021-10-28T12:33:47.841649Z",
     "start_time": "2021-10-28T12:33:47.694408Z"
    }
   },
   "outputs": [
    {
     "name": "stdout",
     "output_type": "stream",
     "text": [
      "We expect that our data points will be on red line for gaussian distributin. We see dist tails\n"
     ]
    },
    {
     "data": {
      "image/png": "[encoded data removed]",
      "text/plain": [
       "<Figure size 1440x504 with 1 Axes>"
      ]
     },
     "metadata": {},
     "output_type": "display_data"
    }
   ],
   "source": [
    "# qq plot:\n",
    "plt.figure(figsize = (20,7))\n",
    "stats.probplot(data_2.log_mileage,plot=plt)\n",
    "plt.show\n",
    "print(\"We expect that our data points will be on red line for gaussian distributin. We see dist tails\")\n"
   ]
  },
  {
   "cell_type": "markdown",
   "metadata": {},
   "source": [
    "<table align=\"left\">\n",
    "    <tr>\n",
    "        <td width=\"8%\">\n",
    "            <img src=\"note.png\">\n",
    "        </td>\n",
    "        <td>\n",
    "            <div align=\"left\", style=\"font-size:120%\">\n",
    "<b>From above plots we can see that mileage is nearly normally distributed</b>     </font>\n",
    "            </div>\n",
    "        </td>\n",
    "    </tr>\n",
    "</table>"
   ]
  },
  {
   "cell_type": "markdown",
   "metadata": {},
   "source": [
    "**2. Distribution of Displacement**"
   ]
  },
  {
   "cell_type": "markdown",
   "metadata": {},
   "source": [
    "Engine displacement is the swept volume of all the pistons inside the cylinders of a reciprocating engine in a single movement from top dead centre (TDC) to bottom dead centre (BDC)."
   ]
  },
  {
   "cell_type": "code",
   "execution_count": 50,
   "metadata": {
    "ExecuteTime": {
     "end_time": "2021-10-28T12:34:01.749797Z",
     "start_time": "2021-10-28T12:34:01.737009Z"
    }
   },
   "outputs": [
    {
     "data": {
      "text/plain": [
       "count   392.00\n",
       "mean    194.41\n",
       "std     104.64\n",
       "min      68.00\n",
       "25%     105.00\n",
       "50%     151.00\n",
       "75%     275.75\n",
       "max     455.00\n",
       "Name: displacement, dtype: float64"
      ]
     },
     "execution_count": 50,
     "metadata": {},
     "output_type": "execute_result"
    }
   ],
   "source": [
    "data_2.displacement.describe()"
   ]
  },
  {
   "cell_type": "markdown",
   "metadata": {},
   "source": [
    "**So the minimum value is 68 and maximum is 455, but on average it is 194.41 with a variation of 104.64**"
   ]
  },
  {
   "cell_type": "code",
   "execution_count": 51,
   "metadata": {
    "ExecuteTime": {
     "end_time": "2021-10-28T12:34:13.357016Z",
     "start_time": "2021-10-28T12:34:13.210705Z"
    }
   },
   "outputs": [
    {
     "data": {
      "text/plain": [
       "<AxesSubplot:xlabel='displacement', ylabel='Density'>"
      ]
     },
     "execution_count": 51,
     "metadata": {},
     "output_type": "execute_result"
    },
    {
     "data": {
      "image/png": "[encoded data removed]",
      "text/plain": [
       "<Figure size 1080x576 with 1 Axes>"
      ]
     },
     "metadata": {},
     "output_type": "display_data"
    }
   ],
   "source": [
    "sns.distplot(data_2.displacement)"
   ]
  },
  {
   "cell_type": "markdown",
   "metadata": {},
   "source": [
    "**3. Analysis of Cylinder**"
   ]
  },
  {
   "cell_type": "code",
   "execution_count": 52,
   "metadata": {
    "ExecuteTime": {
     "end_time": "2021-10-28T12:34:23.744139Z",
     "start_time": "2021-10-28T12:34:23.621175Z"
    },
    "scrolled": false
   },
   "outputs": [
    {
     "data": {
      "image/png": "[encoded data removed]",
      "text/plain": [
       "<Figure size 1080x576 with 1 Axes>"
      ]
     },
     "metadata": {},
     "output_type": "display_data"
    }
   ],
   "source": [
    "sns.countplot(data_2.cylinders,data=data_1,palette = \"rainbow\")\n",
    "plt.show()"
   ]
  },
  {
   "cell_type": "markdown",
   "metadata": {},
   "source": [
    "**From above Countplot**\n",
    "\n",
    "* From the above above plot we can visualize that there are maximum number of 4 cylinder vehicles. \n",
    "* Around 98% of the vehicles are either of 4, 6, 8 cylinders and only small percent of vehicles are either of 3 and 5 cylinders.\n",
    "* Cylinders is categorical, but in our dataset it is numerical.So changing type\n",
    "\n"
   ]
  },
  {
   "cell_type": "code",
   "execution_count": 53,
   "metadata": {
    "ExecuteTime": {
     "end_time": "2021-10-28T12:34:41.230327Z",
     "start_time": "2021-10-28T12:34:41.226795Z"
    }
   },
   "outputs": [],
   "source": [
    "data_3 = data_2.copy(deep = True)"
   ]
  },
  {
   "cell_type": "code",
   "execution_count": 54,
   "metadata": {
    "ExecuteTime": {
     "end_time": "2021-10-28T12:34:42.655573Z",
     "start_time": "2021-10-28T12:34:42.650876Z"
    }
   },
   "outputs": [],
   "source": [
    "data_3.cylinders = data_3.cylinders.astype('object')"
   ]
  },
  {
   "cell_type": "code",
   "execution_count": 55,
   "metadata": {
    "ExecuteTime": {
     "end_time": "2021-10-28T12:34:43.649202Z",
     "start_time": "2021-10-28T12:34:43.627270Z"
    }
   },
   "outputs": [
    {
     "name": "stdout",
     "output_type": "stream",
     "text": [
      "<class 'pandas.core.frame.DataFrame'>\n",
      "Int64Index: 392 entries, 0 to 397\n",
      "Data columns (total 11 columns):\n",
      " #   Column               Non-Null Count  Dtype  \n",
      "---  ------               --------------  -----  \n",
      " 0   origin               392 non-null    object \n",
      " 1   cylinders            392 non-null    object \n",
      " 2   displacement         392 non-null    float64\n",
      " 3   horsepower           392 non-null    float64\n",
      " 4   weight               392 non-null    int64  \n",
      " 5   acceleration         392 non-null    float64\n",
      " 6   year                 392 non-null    int64  \n",
      " 7   Kilometer_per_liter  392 non-null    float64\n",
      " 8   manufacturer         392 non-null    object \n",
      " 9   model                392 non-null    object \n",
      " 10  log_mileage          392 non-null    float64\n",
      "dtypes: float64(5), int64(2), object(4)\n",
      "memory usage: 44.9+ KB\n"
     ]
    }
   ],
   "source": [
    "data_3.info()"
   ]
  },
  {
   "cell_type": "markdown",
   "metadata": {},
   "source": [
    "<table align=\"left\">\n",
    "    <tr>\n",
    "        <td width=\"8%\">\n",
    "            <img src=\"note.png\">\n",
    "        </td>\n",
    "        <td>\n",
    "            <div align=\"left\", style=\"font-size:120%\">\n",
    "<b>From output we can see that cylinder attribute is now object</b>     </font>\n",
    "            </div>\n",
    "        </td>\n",
    "    </tr>\n",
    "</table>"
   ]
  },
  {
   "cell_type": "markdown",
   "metadata": {},
   "source": [
    "**4. Analysis of model year**"
   ]
  },
  {
   "cell_type": "code",
   "execution_count": 56,
   "metadata": {
    "ExecuteTime": {
     "end_time": "2021-10-28T12:35:02.482946Z",
     "start_time": "2021-10-28T12:35:02.331940Z"
    }
   },
   "outputs": [
    {
     "data": {
      "image/png": "[encoded data removed]",
      "text/plain": [
       "<Figure size 1080x576 with 1 Axes>"
      ]
     },
     "metadata": {},
     "output_type": "display_data"
    }
   ],
   "source": [
    "sns.countplot(data_3['year'],palette = \"rainbow\")\n",
    "plt.show()"
   ]
  },
  {
   "cell_type": "markdown",
   "metadata": {},
   "source": [
    "**Maximum number of vehicles are of the year 1973 and minumum number of the year 1974.**"
   ]
  },
  {
   "cell_type": "markdown",
   "metadata": {},
   "source": [
    "**5. Analysis of Origin**"
   ]
  },
  {
   "cell_type": "code",
   "execution_count": 57,
   "metadata": {
    "ExecuteTime": {
     "end_time": "2021-10-28T12:35:12.761038Z",
     "start_time": "2021-10-28T12:35:12.654904Z"
    }
   },
   "outputs": [
    {
     "data": {
      "image/png": "[encoded data removed]",
      "text/plain": [
       "<Figure size 1080x576 with 1 Axes>"
      ]
     },
     "metadata": {},
     "output_type": "display_data"
    }
   ],
   "source": [
    "sns.countplot(data_3.origin,palette = \"rainbow\")\n",
    "plt.show()"
   ]
  },
  {
   "cell_type": "markdown",
   "metadata": {},
   "source": [
    "**Most of the vehicles are from region 1 as compared to the other two regions.**"
   ]
  },
  {
   "cell_type": "markdown",
   "metadata": {},
   "source": [
    "**6. Analysis of Horsepower**"
   ]
  },
  {
   "cell_type": "code",
   "execution_count": 58,
   "metadata": {
    "ExecuteTime": {
     "end_time": "2021-10-28T12:35:21.596527Z",
     "start_time": "2021-10-28T12:35:21.451536Z"
    },
    "scrolled": false
   },
   "outputs": [
    {
     "data": {
      "text/plain": [
       "<AxesSubplot:xlabel='horsepower', ylabel='Density'>"
      ]
     },
     "execution_count": 58,
     "metadata": {},
     "output_type": "execute_result"
    },
    {
     "data": {
      "image/png": "[encoded data removed]",
      "text/plain": [
       "<Figure size 1080x576 with 1 Axes>"
      ]
     },
     "metadata": {},
     "output_type": "display_data"
    }
   ],
   "source": [
    "sns.distplot(data_3.horsepower)"
   ]
  },
  {
   "cell_type": "markdown",
   "metadata": {},
   "source": [
    "**From above distribution**\n",
    "\n",
    "* Horsepower rates the engine performance of cars\n",
    "* We can visualize that most of the vehicles have around 75-110 horsepower \n",
    "* And only few vehicles have horsepoer above 200."
   ]
  },
  {
   "cell_type": "markdown",
   "metadata": {},
   "source": [
    "**7. Analysis of Manufacturer**"
   ]
  },
  {
   "cell_type": "code",
   "execution_count": 59,
   "metadata": {
    "ExecuteTime": {
     "end_time": "2021-10-28T12:35:42.856021Z",
     "start_time": "2021-10-28T12:35:40.868229Z"
    }
   },
   "outputs": [
    {
     "name": "stdout",
     "output_type": "stream",
     "text": [
      "Requirement already satisfied: tabulate in /Users/aniket/opt/anaconda3/lib/python3.8/site-packages (0.8.9)\r\n"
     ]
    }
   ],
   "source": [
    "!pip install tabulate"
   ]
  },
  {
   "cell_type": "code",
   "execution_count": 60,
   "metadata": {
    "ExecuteTime": {
     "end_time": "2021-10-28T12:35:52.565224Z",
     "start_time": "2021-10-28T12:35:52.318056Z"
    }
   },
   "outputs": [
    {
     "name": "stdout",
     "output_type": "stream",
     "text": [
      "Cars from 30 manufacturers (Top10)\n",
      "----------  --\n",
      "ford        48\n",
      "chevrolet   47\n",
      "plymouth    31\n",
      "dodge       28\n",
      "amc         27\n",
      "toyota      26\n",
      "datsun      23\n",
      "volkswagen  22\n",
      "buick       17\n",
      "pontiac     16\n",
      "----------  --\n"
     ]
    },
    {
     "data": {
      "image/png": "[encoded data removed]",
      "text/plain": [
       "<Figure size 1152x360 with 1 Axes>"
      ]
     },
     "metadata": {},
     "output_type": "display_data"
    }
   ],
   "source": [
    "from tabulate import tabulate\n",
    "print(f\"Cars from {data_3.manufacturer.nunique()} manufacturers (Top10)\") \n",
    "print(tabulate(pd.DataFrame(data_3.manufacturer.value_counts()[:10])))\n",
    "\n",
    "plt.figure(figsize=(16,5));\n",
    "data_3.groupby(\"manufacturer\")[\"manufacturer\"].count().sort_values(ascending=False).plot(kind=\"bar\")\n",
    "plt.title(\"Manufacturers\")\n",
    "plt.ylabel(\"Count\")\n",
    "plt.xlabel(\"Manufacturer\")\n",
    "plt.xticks(rotation=45)\n",
    "plt.tight_layout()\n",
    "plt.show()\n"
   ]
  },
  {
   "cell_type": "markdown",
   "metadata": {},
   "source": [
    "**8. Analysis of Model**"
   ]
  },
  {
   "cell_type": "code",
   "execution_count": 61,
   "metadata": {
    "ExecuteTime": {
     "end_time": "2021-10-28T12:36:04.698959Z",
     "start_time": "2021-10-28T12:36:04.507053Z"
    }
   },
   "outputs": [
    {
     "name": "stdout",
     "output_type": "stream",
     "text": [
      "293 car models (Top 10)\n",
      "--------  -\n",
      "pinto     5\n",
      "matador   5\n",
      "corolla   5\n",
      "rabbit    5\n",
      "hornet    4\n",
      "maverick  4\n",
      "gremlin   4\n",
      "corona    4\n",
      "impala    4\n",
      "chevette  4\n",
      "--------  -\n"
     ]
    },
    {
     "data": {
      "image/png": "[encoded data removed]",
      "text/plain": [
       "<Figure size 1152x360 with 1 Axes>"
      ]
     },
     "metadata": {},
     "output_type": "display_data"
    }
   ],
   "source": [
    "print(f\"{data_3.model.nunique()} car models (Top 10)\")\n",
    "print(tabulate(pd.DataFrame(data_3.model.value_counts()[:10])))\n",
    "\n",
    "plt.figure(figsize=(16,5));\n",
    "data_3.groupby(\"model\")[\"model\"].count().sort_values(ascending=False)[:20].plot(kind=\"bar\")\n",
    "plt.title(\"Car models (Top 20 plotted)\")\n",
    "plt.ylabel(\"Count\")\n",
    "plt.xlabel(\"Car models\")\n",
    "plt.xticks(rotation=45)\n",
    "plt.tight_layout()\n",
    "plt.show()"
   ]
  },
  {
   "cell_type": "markdown",
   "metadata": {},
   "source": [
    "<a id='Multivariate_Analysis'></a>\n",
    "## 4.2 Multivariate Analysis"
   ]
  },
  {
   "cell_type": "markdown",
   "metadata": {},
   "source": [
    "**1. Analysis of kilometer_per_liter with horsepower**"
   ]
  },
  {
   "cell_type": "code",
   "execution_count": 62,
   "metadata": {
    "ExecuteTime": {
     "end_time": "2021-10-28T12:36:11.408985Z",
     "start_time": "2021-10-28T12:36:11.022453Z"
    },
    "scrolled": false
   },
   "outputs": [
    {
     "data": {
      "text/plain": [
       "<seaborn.axisgrid.JointGrid at 0x7fa710a2cc10>"
      ]
     },
     "execution_count": 62,
     "metadata": {},
     "output_type": "execute_result"
    },
    {
     "data": {
      "image/png": "[encoded data removed]",
      "text/plain": [
       "<Figure size 432x432 with 3 Axes>"
      ]
     },
     "metadata": {},
     "output_type": "display_data"
    }
   ],
   "source": [
    "x = data_3[['Kilometer_per_liter','horsepower']]\n",
    "sns.jointplot(x.loc[:,'horsepower'], x.loc[:,'Kilometer_per_liter'], kind=\"reg\", color=\"#ce1414\")\n"
   ]
  },
  {
   "cell_type": "markdown",
   "metadata": {},
   "source": [
    "**We can see from the plot that as horsepower increase Kilpmeter_per_liter decreases.**"
   ]
  },
  {
   "cell_type": "markdown",
   "metadata": {},
   "source": [
    "**2. Analysis of kilometer_per_liter with weight**"
   ]
  },
  {
   "cell_type": "code",
   "execution_count": 63,
   "metadata": {
    "ExecuteTime": {
     "end_time": "2021-10-28T12:36:16.209169Z",
     "start_time": "2021-10-28T12:36:15.839489Z"
    }
   },
   "outputs": [
    {
     "data": {
      "text/plain": [
       "<seaborn.axisgrid.JointGrid at 0x7fa7235369a0>"
      ]
     },
     "execution_count": 63,
     "metadata": {},
     "output_type": "execute_result"
    },
    {
     "data": {
      "image/png": "[encoded data removed]",
      "text/plain": [
       "<Figure size 432x432 with 3 Axes>"
      ]
     },
     "metadata": {},
     "output_type": "display_data"
    }
   ],
   "source": [
    "x = data_3[['Kilometer_per_liter','weight']]\n",
    "sns.jointplot(x.loc[:,'weight'], x.loc[:,'Kilometer_per_liter'], kind=\"reg\", color=\"#ce1414\")\n"
   ]
  },
  {
   "cell_type": "markdown",
   "metadata": {},
   "source": [
    "**3. Analysis of kilometer_per_liter with accleration**"
   ]
  },
  {
   "cell_type": "code",
   "execution_count": 64,
   "metadata": {
    "ExecuteTime": {
     "end_time": "2021-10-28T12:36:20.856751Z",
     "start_time": "2021-10-28T12:36:20.303586Z"
    }
   },
   "outputs": [
    {
     "data": {
      "text/plain": [
       "<seaborn.axisgrid.JointGrid at 0x7fa710a2c6d0>"
      ]
     },
     "execution_count": 64,
     "metadata": {},
     "output_type": "execute_result"
    },
    {
     "data": {
      "image/png": "[encoded data removed]",
      "text/plain": [
       "<Figure size 432x432 with 3 Axes>"
      ]
     },
     "metadata": {},
     "output_type": "display_data"
    }
   ],
   "source": [
    "x = data_3[['Kilometer_per_liter','acceleration']]\n",
    "sns.jointplot(x.loc[:,'acceleration'], x.loc[:,'Kilometer_per_liter'], kind=\"reg\", color=\"#ce1414\")\n"
   ]
  },
  {
   "cell_type": "markdown",
   "metadata": {},
   "source": [
    "**4. Analysis of kilometer_per_liter with displacement**"
   ]
  },
  {
   "cell_type": "code",
   "execution_count": 65,
   "metadata": {
    "ExecuteTime": {
     "end_time": "2021-10-28T12:36:24.865312Z",
     "start_time": "2021-10-28T12:36:24.482261Z"
    }
   },
   "outputs": [
    {
     "data": {
      "text/plain": [
       "<seaborn.axisgrid.JointGrid at 0x7fa7238ef8b0>"
      ]
     },
     "execution_count": 65,
     "metadata": {},
     "output_type": "execute_result"
    },
    {
     "data": {
      "image/png": "[encoded data removed]",
      "text/plain": [
       "<Figure size 432x432 with 3 Axes>"
      ]
     },
     "metadata": {},
     "output_type": "display_data"
    }
   ],
   "source": [
    "x = data_3[['Kilometer_per_liter','displacement']]\n",
    "sns.jointplot(x.loc[:,'displacement'], x.loc[:,'Kilometer_per_liter'], kind=\"reg\", color=\"#ce1414\")\n"
   ]
  },
  {
   "cell_type": "markdown",
   "metadata": {},
   "source": [
    "**5. Analysis of kilometer_per_liter with cylinders**"
   ]
  },
  {
   "cell_type": "code",
   "execution_count": 66,
   "metadata": {
    "ExecuteTime": {
     "end_time": "2021-10-28T12:36:28.382935Z",
     "start_time": "2021-10-28T12:36:28.240593Z"
    },
    "scrolled": false
   },
   "outputs": [
    {
     "data": {
      "image/png": "[encoded data removed]",
      "text/plain": [
       "<Figure size 1080x576 with 1 Axes>"
      ]
     },
     "metadata": {},
     "output_type": "display_data"
    }
   ],
   "source": [
    "sns.boxplot(y='Kilometer_per_liter',x='cylinders',data=data_3,palette = \"rainbow\")\n",
    "plt.show()"
   ]
  },
  {
   "cell_type": "markdown",
   "metadata": {},
   "source": [
    "<table align=\"left\">\n",
    "    <tr>\n",
    "        <td width=\"8%\">\n",
    "            <img src=\"note.png\">\n",
    "        </td>\n",
    "        <td>\n",
    "            <div align=\"left\", style=\"font-size:120%\">\n",
    "<b>We can easily visualize that the mileage per gallon (mpg) of 4 cylinder vehicles is maximum and we also saw that most of the vehicles are 4 cylinder.</b>     </font>\n",
    "            </div>\n",
    "        </td>\n",
    "    </tr>\n",
    "</table>"
   ]
  },
  {
   "cell_type": "markdown",
   "metadata": {},
   "source": [
    "**6. Analysis of kilometer_per_liter with year**"
   ]
  },
  {
   "cell_type": "code",
   "execution_count": 67,
   "metadata": {
    "ExecuteTime": {
     "end_time": "2021-10-28T12:36:34.359191Z",
     "start_time": "2021-10-28T12:36:34.145706Z"
    }
   },
   "outputs": [
    {
     "data": {
      "image/png": "[encoded data removed]",
      "text/plain": [
       "<Figure size 1080x576 with 1 Axes>"
      ]
     },
     "metadata": {},
     "output_type": "display_data"
    }
   ],
   "source": [
    "sns.boxplot(y='Kilometer_per_liter',x='year',data=data,palette = \"rainbow\")\n",
    "plt.show()\n"
   ]
  },
  {
   "cell_type": "markdown",
   "metadata": {},
   "source": [
    "<table align=\"left\">\n",
    "    <tr>\n",
    "        <td width=\"8%\">\n",
    "            <img src=\"note.png\">\n",
    "        </td>\n",
    "        <td>\n",
    "            <div align=\"left\", style=\"font-size:120%\">\n",
    "<b>With every year and with the newer models of the vehicles mileage per gallon (mpg) also increases.</b>     </font>\n",
    "            </div>\n",
    "        </td>\n",
    "    </tr>\n",
    "</table>"
   ]
  },
  {
   "cell_type": "markdown",
   "metadata": {},
   "source": [
    "<a id='Covariance'></a>\n",
    "## 4.3 Covariance"
   ]
  },
  {
   "cell_type": "code",
   "execution_count": 68,
   "metadata": {
    "ExecuteTime": {
     "end_time": "2021-10-28T12:36:38.298809Z",
     "start_time": "2021-10-28T12:36:38.028271Z"
    }
   },
   "outputs": [
    {
     "data": {
      "image/png": "[encoded data removed]",
      "text/plain": [
       "<Figure size 1080x504 with 2 Axes>"
      ]
     },
     "metadata": {},
     "output_type": "display_data"
    }
   ],
   "source": [
    "plt.figure(figsize=(15,7))\n",
    "sns.heatmap(data_3.cov(),annot=True,linewidth=0.5,center=0,cmap='rainbow')\n",
    "plt.show()\n"
   ]
  },
  {
   "cell_type": "markdown",
   "metadata": {},
   "source": [
    "<table align=\"left\">\n",
    "    <tr>\n",
    "        <td width=\"8%\">\n",
    "            <img src=\"note.png\">\n",
    "        </td>\n",
    "        <td>\n",
    "            <div align=\"left\", style=\"font-size:120%\">\n",
    "<b>A positive covariance means that asset returns move together while a negative covariance means they move inversely.</b>     </font>\n",
    "            </div>\n",
    "        </td>\n",
    "    </tr>\n",
    "</table>"
   ]
  },
  {
   "cell_type": "markdown",
   "metadata": {},
   "source": [
    "<a id='Correlation'></a>\n",
    "## 4.4 Correlation"
   ]
  },
  {
   "cell_type": "markdown",
   "metadata": {},
   "source": [
    "<table align=\"left\">\n",
    "    <tr>\n",
    "        <td width=\"8%\">\n",
    "            <img src=\"key.png\">\n",
    "        </td>\n",
    "        <td>\n",
    "            <div align=\"left\", style=\"font-size:120%\">\n",
    "                    <b> Call the corr() function which will return the correlation matrix of numeric variables</b>\n",
    "                </font>\n",
    "            </div>\n",
    "        </td>\n",
    "    </tr>\n",
    "</table>"
   ]
  },
  {
   "cell_type": "code",
   "execution_count": 69,
   "metadata": {
    "ExecuteTime": {
     "end_time": "2021-10-28T12:41:38.272469Z",
     "start_time": "2021-10-28T12:41:38.249735Z"
    }
   },
   "outputs": [
    {
     "data": {
      "text/html": [
       "<div>\n",
       "<style scoped>\n",
       "    .dataframe tbody tr th:only-of-type {\n",
       "        vertical-align: middle;\n",
       "    }\n",
       "\n",
       "    .dataframe tbody tr th {\n",
       "        vertical-align: top;\n",
       "    }\n",
       "\n",
       "    .dataframe thead th {\n",
       "        text-align: right;\n",
       "    }\n",
       "</style>\n",
       "<table border=\"1\" class=\"dataframe\">\n",
       "  <thead>\n",
       "    <tr style=\"text-align: right;\">\n",
       "      <th></th>\n",
       "      <th>displacement</th>\n",
       "      <th>horsepower</th>\n",
       "      <th>weight</th>\n",
       "      <th>acceleration</th>\n",
       "      <th>year</th>\n",
       "    </tr>\n",
       "  </thead>\n",
       "  <tbody>\n",
       "    <tr>\n",
       "      <th>displacement</th>\n",
       "      <td>1.00</td>\n",
       "      <td>0.90</td>\n",
       "      <td>0.93</td>\n",
       "      <td>-0.54</td>\n",
       "      <td>-0.37</td>\n",
       "    </tr>\n",
       "    <tr>\n",
       "      <th>horsepower</th>\n",
       "      <td>0.90</td>\n",
       "      <td>1.00</td>\n",
       "      <td>0.86</td>\n",
       "      <td>-0.69</td>\n",
       "      <td>-0.42</td>\n",
       "    </tr>\n",
       "    <tr>\n",
       "      <th>weight</th>\n",
       "      <td>0.93</td>\n",
       "      <td>0.86</td>\n",
       "      <td>1.00</td>\n",
       "      <td>-0.42</td>\n",
       "      <td>-0.31</td>\n",
       "    </tr>\n",
       "    <tr>\n",
       "      <th>acceleration</th>\n",
       "      <td>-0.54</td>\n",
       "      <td>-0.69</td>\n",
       "      <td>-0.42</td>\n",
       "      <td>1.00</td>\n",
       "      <td>0.29</td>\n",
       "    </tr>\n",
       "    <tr>\n",
       "      <th>year</th>\n",
       "      <td>-0.37</td>\n",
       "      <td>-0.42</td>\n",
       "      <td>-0.31</td>\n",
       "      <td>0.29</td>\n",
       "      <td>1.00</td>\n",
       "    </tr>\n",
       "  </tbody>\n",
       "</table>\n",
       "</div>"
      ],
      "text/plain": [
       "              displacement  horsepower  weight  acceleration  year\n",
       "displacement          1.00        0.90    0.93         -0.54 -0.37\n",
       "horsepower            0.90        1.00    0.86         -0.69 -0.42\n",
       "weight                0.93        0.86    1.00         -0.42 -0.31\n",
       "acceleration         -0.54       -0.69   -0.42          1.00  0.29\n",
       "year                 -0.37       -0.42   -0.31          0.29  1.00"
      ]
     },
     "execution_count": 69,
     "metadata": {},
     "output_type": "execute_result"
    }
   ],
   "source": [
    "# check correlation\n",
    "data_num = data_3.drop(['Kilometer_per_liter','log_mileage','origin'],axis = 1)\n",
    "corr = data_num.corr()\n",
    "corr"
   ]
  },
  {
   "cell_type": "code",
   "execution_count": 70,
   "metadata": {
    "ExecuteTime": {
     "end_time": "2021-10-28T12:42:08.180688Z",
     "start_time": "2021-10-28T12:42:07.997572Z"
    }
   },
   "outputs": [
    {
     "data": {
      "text/plain": [
       "<AxesSubplot:>"
      ]
     },
     "execution_count": 70,
     "metadata": {},
     "output_type": "execute_result"
    },
    {
     "data": {
      "image/png": "[encoded data removed]",
      "text/plain": [
       "<Figure size 1080x504 with 2 Axes>"
      ]
     },
     "metadata": {},
     "output_type": "display_data"
    }
   ],
   "source": [
    "#correlation map,fmt=format & .1f is one decmial\n",
    "f,ax = plt.subplots(figsize=(15, 7))\n",
    "sns.heatmap(data_num.corr(), annot=True, linewidths=.5, fmt= '.1f',ax=ax)"
   ]
  },
  {
   "cell_type": "code",
   "execution_count": 71,
   "metadata": {
    "ExecuteTime": {
     "end_time": "2021-10-28T12:42:12.249157Z",
     "start_time": "2021-10-28T12:42:12.086675Z"
    }
   },
   "outputs": [
    {
     "data": {
      "image/png": "[encoded data removed]",
      "text/plain": [
       "<Figure size 1080x504 with 2 Axes>"
      ]
     },
     "metadata": {},
     "output_type": "display_data"
    }
   ],
   "source": [
    "plt.figure(figsize=(15, 7))\n",
    "sns.heatmap(corr[(corr >= 0.9) | (corr <= -0.9)], \n",
    "            cmap='YlGnBu', vmax=1.0, vmin=-1.0,\n",
    "            annot=True, annot_kws={\"size\": 15})\n",
    "\n",
    "plt.title('Correlation between features', fontsize=15)\n",
    "\n",
    "plt.show()"
   ]
  },
  {
   "cell_type": "markdown",
   "metadata": {},
   "source": [
    "<table align=\"left\">\n",
    "    <tr>\n",
    "        <td width=\"8%\">\n",
    "            <img src=\"note.png\">\n",
    "        </td>\n",
    "        <td>\n",
    "            <div align=\"left\", style=\"font-size:120%\">\n",
    "<b>By looking at the correlation matrix we can see that variables 'displacement','weight' and 'horsepower' have a strong positive correlation with each other. These feature pairs are strongly correlated to each other. Ideally, we should not select these features together for training the model. </b>     </font>\n",
    "            </div>\n",
    "        </td>\n",
    "    </tr>\n",
    "</table>"
   ]
  },
  {
   "cell_type": "code",
   "execution_count": 72,
   "metadata": {
    "ExecuteTime": {
     "end_time": "2021-10-28T12:42:21.834287Z",
     "start_time": "2021-10-28T12:42:21.811378Z"
    },
    "scrolled": true
   },
   "outputs": [
    {
     "data": {
      "text/html": [
       "<div>\n",
       "<style scoped>\n",
       "    .dataframe tbody tr th:only-of-type {\n",
       "        vertical-align: middle;\n",
       "    }\n",
       "\n",
       "    .dataframe tbody tr th {\n",
       "        vertical-align: top;\n",
       "    }\n",
       "\n",
       "    .dataframe thead th {\n",
       "        text-align: right;\n",
       "    }\n",
       "</style>\n",
       "<table border=\"1\" class=\"dataframe\">\n",
       "  <thead>\n",
       "    <tr style=\"text-align: right;\">\n",
       "      <th></th>\n",
       "      <th>origin</th>\n",
       "      <th>cylinders</th>\n",
       "      <th>horsepower</th>\n",
       "      <th>acceleration</th>\n",
       "      <th>year</th>\n",
       "      <th>Kilometer_per_liter</th>\n",
       "      <th>log_mileage</th>\n",
       "    </tr>\n",
       "  </thead>\n",
       "  <tbody>\n",
       "    <tr>\n",
       "      <th>0</th>\n",
       "      <td>1</td>\n",
       "      <td>8</td>\n",
       "      <td>130.00</td>\n",
       "      <td>12.00</td>\n",
       "      <td>1970</td>\n",
       "      <td>7.65</td>\n",
       "      <td>2.04</td>\n",
       "    </tr>\n",
       "    <tr>\n",
       "      <th>1</th>\n",
       "      <td>1</td>\n",
       "      <td>8</td>\n",
       "      <td>165.00</td>\n",
       "      <td>11.50</td>\n",
       "      <td>1970</td>\n",
       "      <td>6.38</td>\n",
       "      <td>1.85</td>\n",
       "    </tr>\n",
       "    <tr>\n",
       "      <th>2</th>\n",
       "      <td>1</td>\n",
       "      <td>8</td>\n",
       "      <td>150.00</td>\n",
       "      <td>11.00</td>\n",
       "      <td>1970</td>\n",
       "      <td>7.65</td>\n",
       "      <td>2.04</td>\n",
       "    </tr>\n",
       "    <tr>\n",
       "      <th>3</th>\n",
       "      <td>1</td>\n",
       "      <td>8</td>\n",
       "      <td>150.00</td>\n",
       "      <td>12.00</td>\n",
       "      <td>1970</td>\n",
       "      <td>6.80</td>\n",
       "      <td>1.92</td>\n",
       "    </tr>\n",
       "    <tr>\n",
       "      <th>4</th>\n",
       "      <td>1</td>\n",
       "      <td>8</td>\n",
       "      <td>140.00</td>\n",
       "      <td>10.50</td>\n",
       "      <td>1970</td>\n",
       "      <td>7.23</td>\n",
       "      <td>1.98</td>\n",
       "    </tr>\n",
       "  </tbody>\n",
       "</table>\n",
       "</div>"
      ],
      "text/plain": [
       "  origin cylinders  horsepower  acceleration  year  Kilometer_per_liter  \\\n",
       "0      1         8      130.00         12.00  1970                 7.65   \n",
       "1      1         8      165.00         11.50  1970                 6.38   \n",
       "2      1         8      150.00         11.00  1970                 7.65   \n",
       "3      1         8      150.00         12.00  1970                 6.80   \n",
       "4      1         8      140.00         10.50  1970                 7.23   \n",
       "\n",
       "   log_mileage  \n",
       "0         2.04  \n",
       "1         1.85  \n",
       "2         2.04  \n",
       "3         1.92  \n",
       "4         1.98  "
      ]
     },
     "execution_count": 72,
     "metadata": {},
     "output_type": "execute_result"
    }
   ],
   "source": [
    "# dropping highly correlated variables: 'displacement','weight' and 'horsepower'\n",
    "# Dropping categorical columns such as manufactured & model for simplicity\n",
    "\n",
    "drop_list = ['weight','displacement','manufacturer', 'model']\n",
    "data_cleaned = data_3.drop(drop_list,axis = 1 )        \n",
    "data_cleaned.head()"
   ]
  },
  {
   "cell_type": "code",
   "execution_count": 73,
   "metadata": {
    "ExecuteTime": {
     "end_time": "2021-10-28T12:42:31.627773Z",
     "start_time": "2021-10-28T12:42:31.607791Z"
    }
   },
   "outputs": [
    {
     "name": "stdout",
     "output_type": "stream",
     "text": [
      "<class 'pandas.core.frame.DataFrame'>\n",
      "Int64Index: 392 entries, 0 to 397\n",
      "Data columns (total 7 columns):\n",
      " #   Column               Non-Null Count  Dtype  \n",
      "---  ------               --------------  -----  \n",
      " 0   origin               392 non-null    object \n",
      " 1   cylinders            392 non-null    object \n",
      " 2   horsepower           392 non-null    float64\n",
      " 3   acceleration         392 non-null    float64\n",
      " 4   year                 392 non-null    int64  \n",
      " 5   Kilometer_per_liter  392 non-null    float64\n",
      " 6   log_mileage          392 non-null    float64\n",
      "dtypes: float64(4), int64(1), object(2)\n",
      "memory usage: 32.6+ KB\n"
     ]
    }
   ],
   "source": [
    "data_cleaned.info()"
   ]
  },
  {
   "cell_type": "code",
   "execution_count": 74,
   "metadata": {
    "ExecuteTime": {
     "end_time": "2021-10-28T12:42:35.859900Z",
     "start_time": "2021-10-28T12:42:35.852483Z"
    },
    "scrolled": true
   },
   "outputs": [
    {
     "data": {
      "text/plain": [
       "Index(['origin', 'cylinders', 'horsepower', 'acceleration', 'year',\n",
       "       'Kilometer_per_liter', 'log_mileage'],\n",
       "      dtype='object')"
      ]
     },
     "execution_count": 74,
     "metadata": {},
     "output_type": "execute_result"
    }
   ],
   "source": [
    "# print the name of columns\n",
    "data_cleaned.columns"
   ]
  },
  {
   "cell_type": "markdown",
   "metadata": {},
   "source": [
    "<a id=\"Label_Encoding_of_Categorical_Data\"> </a>\n",
    "## 5. Label Encoding of Categorical Data"
   ]
  },
  {
   "cell_type": "code",
   "execution_count": 75,
   "metadata": {
    "ExecuteTime": {
     "end_time": "2021-10-28T12:42:42.704123Z",
     "start_time": "2021-10-28T12:42:42.674524Z"
    }
   },
   "outputs": [
    {
     "data": {
      "text/html": [
       "<div>\n",
       "<style scoped>\n",
       "    .dataframe tbody tr th:only-of-type {\n",
       "        vertical-align: middle;\n",
       "    }\n",
       "\n",
       "    .dataframe tbody tr th {\n",
       "        vertical-align: top;\n",
       "    }\n",
       "\n",
       "    .dataframe thead th {\n",
       "        text-align: right;\n",
       "    }\n",
       "</style>\n",
       "<table border=\"1\" class=\"dataframe\">\n",
       "  <thead>\n",
       "    <tr style=\"text-align: right;\">\n",
       "      <th></th>\n",
       "      <th>horsepower</th>\n",
       "      <th>acceleration</th>\n",
       "      <th>year</th>\n",
       "      <th>Kilometer_per_liter</th>\n",
       "      <th>log_mileage</th>\n",
       "      <th>origin_2</th>\n",
       "      <th>origin_3</th>\n",
       "      <th>cylinders_4</th>\n",
       "      <th>cylinders_5</th>\n",
       "      <th>cylinders_6</th>\n",
       "      <th>cylinders_8</th>\n",
       "    </tr>\n",
       "  </thead>\n",
       "  <tbody>\n",
       "    <tr>\n",
       "      <th>0</th>\n",
       "      <td>130.00</td>\n",
       "      <td>12.00</td>\n",
       "      <td>1970</td>\n",
       "      <td>7.65</td>\n",
       "      <td>2.04</td>\n",
       "      <td>0</td>\n",
       "      <td>0</td>\n",
       "      <td>0</td>\n",
       "      <td>0</td>\n",
       "      <td>0</td>\n",
       "      <td>1</td>\n",
       "    </tr>\n",
       "    <tr>\n",
       "      <th>1</th>\n",
       "      <td>165.00</td>\n",
       "      <td>11.50</td>\n",
       "      <td>1970</td>\n",
       "      <td>6.38</td>\n",
       "      <td>1.85</td>\n",
       "      <td>0</td>\n",
       "      <td>0</td>\n",
       "      <td>0</td>\n",
       "      <td>0</td>\n",
       "      <td>0</td>\n",
       "      <td>1</td>\n",
       "    </tr>\n",
       "    <tr>\n",
       "      <th>2</th>\n",
       "      <td>150.00</td>\n",
       "      <td>11.00</td>\n",
       "      <td>1970</td>\n",
       "      <td>7.65</td>\n",
       "      <td>2.04</td>\n",
       "      <td>0</td>\n",
       "      <td>0</td>\n",
       "      <td>0</td>\n",
       "      <td>0</td>\n",
       "      <td>0</td>\n",
       "      <td>1</td>\n",
       "    </tr>\n",
       "    <tr>\n",
       "      <th>3</th>\n",
       "      <td>150.00</td>\n",
       "      <td>12.00</td>\n",
       "      <td>1970</td>\n",
       "      <td>6.80</td>\n",
       "      <td>1.92</td>\n",
       "      <td>0</td>\n",
       "      <td>0</td>\n",
       "      <td>0</td>\n",
       "      <td>0</td>\n",
       "      <td>0</td>\n",
       "      <td>1</td>\n",
       "    </tr>\n",
       "    <tr>\n",
       "      <th>4</th>\n",
       "      <td>140.00</td>\n",
       "      <td>10.50</td>\n",
       "      <td>1970</td>\n",
       "      <td>7.23</td>\n",
       "      <td>1.98</td>\n",
       "      <td>0</td>\n",
       "      <td>0</td>\n",
       "      <td>0</td>\n",
       "      <td>0</td>\n",
       "      <td>0</td>\n",
       "      <td>1</td>\n",
       "    </tr>\n",
       "  </tbody>\n",
       "</table>\n",
       "</div>"
      ],
      "text/plain": [
       "   horsepower  acceleration  year  Kilometer_per_liter  log_mileage  origin_2  \\\n",
       "0      130.00         12.00  1970                 7.65         2.04         0   \n",
       "1      165.00         11.50  1970                 6.38         1.85         0   \n",
       "2      150.00         11.00  1970                 7.65         2.04         0   \n",
       "3      150.00         12.00  1970                 6.80         1.92         0   \n",
       "4      140.00         10.50  1970                 7.23         1.98         0   \n",
       "\n",
       "   origin_3  cylinders_4  cylinders_5  cylinders_6  cylinders_8  \n",
       "0         0            0            0            0            1  \n",
       "1         0            0            0            0            1  \n",
       "2         0            0            0            0            1  \n",
       "3         0            0            0            0            1  \n",
       "4         0            0            0            0            1  "
      ]
     },
     "execution_count": 75,
     "metadata": {},
     "output_type": "execute_result"
    }
   ],
   "source": [
    "data_with_dummies = pd.get_dummies(data_cleaned,drop_first=True)\n",
    "data_with_dummies.head()"
   ]
  },
  {
   "cell_type": "markdown",
   "metadata": {},
   "source": [
    "<a id=\"Standardise_Data\"> </a>\n",
    "## 6. Standardise Data"
   ]
  },
  {
   "cell_type": "code",
   "execution_count": 76,
   "metadata": {
    "ExecuteTime": {
     "end_time": "2021-10-28T12:48:58.634702Z",
     "start_time": "2021-10-28T12:48:58.532178Z"
    }
   },
   "outputs": [],
   "source": [
    "# Using MinMax Scaling (Normalization)\n",
    "from sklearn.preprocessing import MinMaxScaler"
   ]
  },
  {
   "cell_type": "code",
   "execution_count": 82,
   "metadata": {
    "ExecuteTime": {
     "end_time": "2021-10-28T12:50:20.173302Z",
     "start_time": "2021-10-28T12:50:20.152832Z"
    }
   },
   "outputs": [
    {
     "data": {
      "text/html": [
       "<div>\n",
       "<style scoped>\n",
       "    .dataframe tbody tr th:only-of-type {\n",
       "        vertical-align: middle;\n",
       "    }\n",
       "\n",
       "    .dataframe tbody tr th {\n",
       "        vertical-align: top;\n",
       "    }\n",
       "\n",
       "    .dataframe thead th {\n",
       "        text-align: right;\n",
       "    }\n",
       "</style>\n",
       "<table border=\"1\" class=\"dataframe\">\n",
       "  <thead>\n",
       "    <tr style=\"text-align: right;\">\n",
       "      <th></th>\n",
       "      <th>horsepower</th>\n",
       "      <th>acceleration</th>\n",
       "      <th>year</th>\n",
       "      <th>Kilometer_per_liter</th>\n",
       "      <th>log_mileage</th>\n",
       "      <th>origin_2</th>\n",
       "      <th>origin_3</th>\n",
       "      <th>cylinders_4</th>\n",
       "      <th>cylinders_5</th>\n",
       "      <th>cylinders_6</th>\n",
       "      <th>cylinders_8</th>\n",
       "    </tr>\n",
       "  </thead>\n",
       "  <tbody>\n",
       "    <tr>\n",
       "      <th>0</th>\n",
       "      <td>130.00</td>\n",
       "      <td>12.00</td>\n",
       "      <td>1970</td>\n",
       "      <td>7.65</td>\n",
       "      <td>2.04</td>\n",
       "      <td>0</td>\n",
       "      <td>0</td>\n",
       "      <td>0</td>\n",
       "      <td>0</td>\n",
       "      <td>0</td>\n",
       "      <td>1</td>\n",
       "    </tr>\n",
       "    <tr>\n",
       "      <th>1</th>\n",
       "      <td>165.00</td>\n",
       "      <td>11.50</td>\n",
       "      <td>1970</td>\n",
       "      <td>6.38</td>\n",
       "      <td>1.85</td>\n",
       "      <td>0</td>\n",
       "      <td>0</td>\n",
       "      <td>0</td>\n",
       "      <td>0</td>\n",
       "      <td>0</td>\n",
       "      <td>1</td>\n",
       "    </tr>\n",
       "    <tr>\n",
       "      <th>2</th>\n",
       "      <td>150.00</td>\n",
       "      <td>11.00</td>\n",
       "      <td>1970</td>\n",
       "      <td>7.65</td>\n",
       "      <td>2.04</td>\n",
       "      <td>0</td>\n",
       "      <td>0</td>\n",
       "      <td>0</td>\n",
       "      <td>0</td>\n",
       "      <td>0</td>\n",
       "      <td>1</td>\n",
       "    </tr>\n",
       "    <tr>\n",
       "      <th>3</th>\n",
       "      <td>150.00</td>\n",
       "      <td>12.00</td>\n",
       "      <td>1970</td>\n",
       "      <td>6.80</td>\n",
       "      <td>1.92</td>\n",
       "      <td>0</td>\n",
       "      <td>0</td>\n",
       "      <td>0</td>\n",
       "      <td>0</td>\n",
       "      <td>0</td>\n",
       "      <td>1</td>\n",
       "    </tr>\n",
       "    <tr>\n",
       "      <th>4</th>\n",
       "      <td>140.00</td>\n",
       "      <td>10.50</td>\n",
       "      <td>1970</td>\n",
       "      <td>7.23</td>\n",
       "      <td>1.98</td>\n",
       "      <td>0</td>\n",
       "      <td>0</td>\n",
       "      <td>0</td>\n",
       "      <td>0</td>\n",
       "      <td>0</td>\n",
       "      <td>1</td>\n",
       "    </tr>\n",
       "  </tbody>\n",
       "</table>\n",
       "</div>"
      ],
      "text/plain": [
       "   horsepower  acceleration  year  Kilometer_per_liter  log_mileage  origin_2  \\\n",
       "0      130.00         12.00  1970                 7.65         2.04         0   \n",
       "1      165.00         11.50  1970                 6.38         1.85         0   \n",
       "2      150.00         11.00  1970                 7.65         2.04         0   \n",
       "3      150.00         12.00  1970                 6.80         1.92         0   \n",
       "4      140.00         10.50  1970                 7.23         1.98         0   \n",
       "\n",
       "   origin_3  cylinders_4  cylinders_5  cylinders_6  cylinders_8  \n",
       "0         0            0            0            0            1  \n",
       "1         0            0            0            0            1  \n",
       "2         0            0            0            0            1  \n",
       "3         0            0            0            0            1  \n",
       "4         0            0            0            0            1  "
      ]
     },
     "execution_count": 82,
     "metadata": {},
     "output_type": "execute_result"
    }
   ],
   "source": [
    "# Dropping the target variable and the origin variable of dummy variables\n",
    "x = data_with_dummies.drop(['Kilometer_per_liter','log_mileage'],axis = 1)\n",
    "data_with_dummies.head(5)"
   ]
  },
  {
   "cell_type": "code",
   "execution_count": 83,
   "metadata": {
    "ExecuteTime": {
     "end_time": "2021-10-28T12:50:54.845396Z",
     "start_time": "2021-10-28T12:50:54.828048Z"
    }
   },
   "outputs": [
    {
     "data": {
      "text/html": [
       "<div>\n",
       "<style scoped>\n",
       "    .dataframe tbody tr th:only-of-type {\n",
       "        vertical-align: middle;\n",
       "    }\n",
       "\n",
       "    .dataframe tbody tr th {\n",
       "        vertical-align: top;\n",
       "    }\n",
       "\n",
       "    .dataframe thead th {\n",
       "        text-align: right;\n",
       "    }\n",
       "</style>\n",
       "<table border=\"1\" class=\"dataframe\">\n",
       "  <thead>\n",
       "    <tr style=\"text-align: right;\">\n",
       "      <th></th>\n",
       "      <th>horsepower</th>\n",
       "      <th>acceleration</th>\n",
       "      <th>year</th>\n",
       "      <th>origin_2</th>\n",
       "      <th>origin_3</th>\n",
       "      <th>cylinders_4</th>\n",
       "      <th>cylinders_5</th>\n",
       "      <th>cylinders_6</th>\n",
       "      <th>cylinders_8</th>\n",
       "    </tr>\n",
       "  </thead>\n",
       "  <tbody>\n",
       "    <tr>\n",
       "      <th>0</th>\n",
       "      <td>130.00</td>\n",
       "      <td>12.00</td>\n",
       "      <td>1970</td>\n",
       "      <td>0</td>\n",
       "      <td>0</td>\n",
       "      <td>0</td>\n",
       "      <td>0</td>\n",
       "      <td>0</td>\n",
       "      <td>1</td>\n",
       "    </tr>\n",
       "    <tr>\n",
       "      <th>1</th>\n",
       "      <td>165.00</td>\n",
       "      <td>11.50</td>\n",
       "      <td>1970</td>\n",
       "      <td>0</td>\n",
       "      <td>0</td>\n",
       "      <td>0</td>\n",
       "      <td>0</td>\n",
       "      <td>0</td>\n",
       "      <td>1</td>\n",
       "    </tr>\n",
       "    <tr>\n",
       "      <th>2</th>\n",
       "      <td>150.00</td>\n",
       "      <td>11.00</td>\n",
       "      <td>1970</td>\n",
       "      <td>0</td>\n",
       "      <td>0</td>\n",
       "      <td>0</td>\n",
       "      <td>0</td>\n",
       "      <td>0</td>\n",
       "      <td>1</td>\n",
       "    </tr>\n",
       "  </tbody>\n",
       "</table>\n",
       "</div>"
      ],
      "text/plain": [
       "   horsepower  acceleration  year  origin_2  origin_3  cylinders_4  \\\n",
       "0      130.00         12.00  1970         0         0            0   \n",
       "1      165.00         11.50  1970         0         0            0   \n",
       "2      150.00         11.00  1970         0         0            0   \n",
       "\n",
       "   cylinders_5  cylinders_6  cylinders_8  \n",
       "0            0            0            1  \n",
       "1            0            0            1  \n",
       "2            0            0            1  "
      ]
     },
     "execution_count": 83,
     "metadata": {},
     "output_type": "execute_result"
    }
   ],
   "source": [
    "x.head(3)"
   ]
  },
  {
   "cell_type": "code",
   "execution_count": 78,
   "metadata": {
    "ExecuteTime": {
     "end_time": "2021-10-28T12:49:07.179737Z",
     "start_time": "2021-10-28T12:49:07.165475Z"
    }
   },
   "outputs": [
    {
     "data": {
      "text/plain": [
       "MinMaxScaler()"
      ]
     },
     "execution_count": 78,
     "metadata": {},
     "output_type": "execute_result"
    }
   ],
   "source": [
    "scaler = MinMaxScaler()\n",
    "scaler.fit(x)"
   ]
  },
  {
   "cell_type": "code",
   "execution_count": 85,
   "metadata": {
    "ExecuteTime": {
     "end_time": "2021-10-28T12:54:23.873585Z",
     "start_time": "2021-10-28T12:54:23.860033Z"
    }
   },
   "outputs": [],
   "source": [
    "X = scaler.fit_transform(x)\n"
   ]
  },
  {
   "cell_type": "code",
   "execution_count": 86,
   "metadata": {
    "ExecuteTime": {
     "end_time": "2021-10-28T12:54:25.286827Z",
     "start_time": "2021-10-28T12:54:25.280493Z"
    }
   },
   "outputs": [
    {
     "name": "stdout",
     "output_type": "stream",
     "text": [
      "[[0.45652174 0.23809524 0.         ... 0.         0.         1.        ]\n",
      " [0.64673913 0.20833333 0.         ... 0.         0.         1.        ]\n",
      " [0.56521739 0.17857143 0.         ... 0.         0.         1.        ]\n",
      " ...\n",
      " [0.20652174 0.21428571 1.         ... 0.         0.         0.        ]\n",
      " [0.17934783 0.63095238 1.         ... 0.         0.         0.        ]\n",
      " [0.19565217 0.67857143 1.         ... 0.         0.         0.        ]]\n"
     ]
    }
   ],
   "source": [
    "print(X)"
   ]
  },
  {
   "cell_type": "code",
   "execution_count": 87,
   "metadata": {
    "ExecuteTime": {
     "end_time": "2021-10-28T12:54:39.917769Z",
     "start_time": "2021-10-28T12:54:39.912769Z"
    }
   },
   "outputs": [],
   "source": [
    "y = data_with_dummies.log_mileage\n"
   ]
  },
  {
   "cell_type": "code",
   "execution_count": 88,
   "metadata": {
    "ExecuteTime": {
     "end_time": "2021-10-28T12:54:41.077489Z",
     "start_time": "2021-10-28T12:54:41.071567Z"
    }
   },
   "outputs": [
    {
     "name": "stdout",
     "output_type": "stream",
     "text": [
      "0     2.04\n",
      "1     1.85\n",
      "2     2.04\n",
      "3     1.92\n",
      "4     1.98\n",
      "      ... \n",
      "393   2.44\n",
      "394   2.93\n",
      "395   2.61\n",
      "396   2.48\n",
      "397   2.58\n",
      "Name: log_mileage, Length: 392, dtype: float64\n"
     ]
    }
   ],
   "source": [
    "print(y)"
   ]
  },
  {
   "cell_type": "markdown",
   "metadata": {},
   "source": [
    "**Split data into train and test**"
   ]
  },
  {
   "cell_type": "code",
   "execution_count": 89,
   "metadata": {
    "ExecuteTime": {
     "end_time": "2021-10-28T12:55:00.042908Z",
     "start_time": "2021-10-28T12:55:00.030677Z"
    }
   },
   "outputs": [
    {
     "name": "stdout",
     "output_type": "stream",
     "text": [
      "X_train  (313, 9)\n",
      "X_test  (79, 9)\n",
      "y_train  (313,)\n",
      "y_test  (79,)\n"
     ]
    }
   ],
   "source": [
    "# let us now split the dataset into train & test\n",
    "\n",
    "from sklearn.model_selection import train_test_split\n",
    "\n",
    "X_train, X_test, y_train, y_test = train_test_split(X, y, test_size = 0.20, random_state=10)\n",
    "\n",
    "# print the shape of 'x_train'\n",
    "print(\"X_train \",X_train.shape)\n",
    "\n",
    "# print the shape of 'x_test'\n",
    "print(\"X_test \",X_test.shape)\n",
    "\n",
    "# print the shape of 'y_train'\n",
    "print(\"y_train \",y_train.shape)\n",
    "\n",
    "# print the shape of 'y_test'\n",
    "print(\"y_test \",y_test.shape)"
   ]
  },
  {
   "cell_type": "code",
   "execution_count": 92,
   "metadata": {
    "ExecuteTime": {
     "end_time": "2021-10-28T12:59:35.554134Z",
     "start_time": "2021-10-28T12:59:35.549122Z"
    }
   },
   "outputs": [
    {
     "name": "stdout",
     "output_type": "stream",
     "text": [
      "2.2587763145579243\n",
      "2.180419020497039\n"
     ]
    }
   ],
   "source": [
    "#Random state=10\n",
    "print(y_train.mean())\n",
    "print(y_test.mean()) "
   ]
  },
  {
   "cell_type": "code",
   "execution_count": null,
   "metadata": {},
   "outputs": [],
   "source": []
  },
  {
   "cell_type": "code",
   "execution_count": null,
   "metadata": {},
   "outputs": [],
   "source": []
  },
  {
   "cell_type": "markdown",
   "metadata": {},
   "source": [
    "<a id=\"Linear_Regression\"> </a>\n",
    "# 7. Linear Regression"
   ]
  },
  {
   "cell_type": "markdown",
   "metadata": {},
   "source": [
    "<a id=\"Ordinary_Least_Square\"> </a>\n",
    "## 7.1 Ordinary Least Square\n",
    "\n",
    "https://scikit-learn.org/stable/modules/generated/sklearn.linear_model.LinearRegression.html"
   ]
  },
  {
   "cell_type": "markdown",
   "metadata": {},
   "source": [
    "<table align=\"left\">\n",
    "    <tr>\n",
    "        <td width=\"8%\">\n",
    "            <img src=\"key.png\">\n",
    "        </td>\n",
    "        <td>\n",
    "            <div align=\"left\", style=\"font-size:120%\">\n",
    "                    <b> Now we build a Linear regression model. We start with our data set gradually proceeding with our analysis<br><br>\n",
    "                        In order to build a Linear regression model, we do the following:<br>\n",
    "                        1. Build the model<br>\n",
    "                        2. Predict the values<br>\n",
    "                        3. Compute the accuracy measures<br>\n",
    "                        4. Tabulate the results <br>\n",
    "                      </b>\n",
    "                </font>\n",
    "            </div>\n",
    "        </td>\n",
    "    </tr>\n",
    "</table>"
   ]
  },
  {
   "cell_type": "markdown",
   "metadata": {},
   "source": [
    "**1. Build the model**"
   ]
  },
  {
   "cell_type": "code",
   "execution_count": 95,
   "metadata": {
    "ExecuteTime": {
     "end_time": "2021-10-28T13:25:19.170066Z",
     "start_time": "2021-10-28T13:25:19.160522Z"
    }
   },
   "outputs": [
    {
     "data": {
      "text/plain": [
       "LinearRegression()"
      ]
     },
     "execution_count": 95,
     "metadata": {},
     "output_type": "execute_result"
    }
   ],
   "source": [
    "\n",
    "from sklearn.linear_model import LinearRegression\n",
    "\n",
    "# build the model\n",
    "OLS_model = LinearRegression()\n",
    "\n",
    "# fit the model\n",
    "OLS_model.fit(X_train, y_train)\n"
   ]
  },
  {
   "cell_type": "markdown",
   "metadata": {},
   "source": [
    "**2. Predict the values**"
   ]
  },
  {
   "cell_type": "code",
   "execution_count": 96,
   "metadata": {
    "ExecuteTime": {
     "end_time": "2021-10-28T13:26:02.636319Z",
     "start_time": "2021-10-28T13:26:02.632415Z"
    }
   },
   "outputs": [],
   "source": [
    "# predict the values\n",
    "y_pred_OLS = OLS_model.predict(X_test)"
   ]
  },
  {
   "cell_type": "markdown",
   "metadata": {},
   "source": [
    "**Before we compute accuracy let's plot the predicted values**"
   ]
  },
  {
   "cell_type": "code",
   "execution_count": 97,
   "metadata": {
    "ExecuteTime": {
     "end_time": "2021-10-28T13:26:04.672411Z",
     "start_time": "2021-10-28T13:26:04.557272Z"
    }
   },
   "outputs": [
    {
     "data": {
      "image/png": "[encoded data removed]",
      "text/plain": [
       "<Figure size 1080x576 with 1 Axes>"
      ]
     },
     "metadata": {},
     "output_type": "display_data"
    }
   ],
   "source": [
    "plt.scatter(y_test,y_pred_OLS)\n",
    "plt.xlabel('Targets' ,size = 18)\n",
    "plt.ylabel('Predictions',size = 18)\n",
    "plt.show()"
   ]
  },
  {
   "cell_type": "markdown",
   "metadata": {},
   "source": [
    "<table align=\"left\">\n",
    "    <tr>\n",
    "        <td width=\"8%\">\n",
    "            <img src=\"note.png\">\n",
    "        </td>\n",
    "        <td>\n",
    "            <div align=\"left\", style=\"font-size:120%\">\n",
    "                    <b>The OLS model fits well to good extent</b>\n",
    "                </font>\n",
    "            </div>\n",
    "        </td>\n",
    "    </tr>\n",
    "</table>\n",
    "\n"
   ]
  },
  {
   "cell_type": "markdown",
   "metadata": {},
   "source": [
    "**3. Compute accuracy measures**"
   ]
  },
  {
   "cell_type": "code",
   "execution_count": 99,
   "metadata": {
    "ExecuteTime": {
     "end_time": "2021-10-28T13:31:35.387888Z",
     "start_time": "2021-10-28T13:31:35.374857Z"
    }
   },
   "outputs": [
    {
     "name": "stdout",
     "output_type": "stream",
     "text": [
      "r_squared_OLS: 0.8638198316392174\n",
      "Adj_r_squared_OLS: 0.8597748761433526\n",
      "rmse_OLS: 0.1358335913133168\n"
     ]
    }
   ],
   "source": [
    "# compute the R-Squared\n",
    "r_squared_OLS = OLS_model.score(X_train,y_train)\n",
    "print(\"r_squared_OLS:\",r_squared_OLS)\n",
    "\n",
    "# Number of observation or sample size\n",
    "n = 313 \n",
    "\n",
    "# No of independent variables\n",
    "p = 9\n",
    "\n",
    "#Compute Adj-R-Squared\n",
    "Adj_r_squared_OLS = 1 - (1-r_squared_OLS)*(n-1)/(n-p-1)\n",
    "print(\"Adj_r_squared_OLS:\",Adj_r_squared_OLS)\n",
    "\n",
    "# Compute RMSE\n",
    "from sklearn.metrics import mean_squared_error\n",
    "from math import sqrt\n",
    "\n",
    "rmse_OLS = sqrt(mean_squared_error(y_test, y_pred_OLS))\n",
    "print(\"rmse_OLS:\",rmse_OLS)\n",
    "\n"
   ]
  },
  {
   "cell_type": "markdown",
   "metadata": {},
   "source": [
    "**4. Tabulate the results**"
   ]
  },
  {
   "cell_type": "code",
   "execution_count": 100,
   "metadata": {
    "ExecuteTime": {
     "end_time": "2021-10-28T13:32:28.872525Z",
     "start_time": "2021-10-28T13:32:28.848049Z"
    }
   },
   "outputs": [
    {
     "data": {
      "text/html": [
       "<div>\n",
       "<style scoped>\n",
       "    .dataframe tbody tr th:only-of-type {\n",
       "        vertical-align: middle;\n",
       "    }\n",
       "\n",
       "    .dataframe tbody tr th {\n",
       "        vertical-align: top;\n",
       "    }\n",
       "\n",
       "    .dataframe thead th {\n",
       "        text-align: right;\n",
       "    }\n",
       "</style>\n",
       "<table border=\"1\" class=\"dataframe\">\n",
       "  <thead>\n",
       "    <tr style=\"text-align: right;\">\n",
       "      <th></th>\n",
       "      <th>Model</th>\n",
       "      <th>R-squared</th>\n",
       "      <th>Adj R-squared</th>\n",
       "      <th>RMSE</th>\n",
       "    </tr>\n",
       "  </thead>\n",
       "  <tbody>\n",
       "    <tr>\n",
       "      <th>0</th>\n",
       "      <td>OLS</td>\n",
       "      <td>0.86</td>\n",
       "      <td>0.86</td>\n",
       "      <td>0.14</td>\n",
       "    </tr>\n",
       "  </tbody>\n",
       "</table>\n",
       "</div>"
      ],
      "text/plain": [
       "  Model  R-squared  Adj R-squared  RMSE\n",
       "0   OLS       0.86           0.86  0.14"
      ]
     },
     "execution_count": 100,
     "metadata": {},
     "output_type": "execute_result"
    }
   ],
   "source": [
    "# create the result table for all accuracy scores\n",
    "# Accuracy measures considered for model comparision are 'Model', ''R-squared', 'Adj R-squared', 'RMSE'\n",
    "\n",
    "# create a list of column names\n",
    "cols = ['Model', 'R-squared', 'Adj R-squared', 'RMSE']\n",
    "\n",
    "# creating an empty dataframe of the colums\n",
    "result_tabulation = pd.DataFrame(columns = cols)\n",
    "\n",
    "# compiling the required information\n",
    "OLS_metrics = pd.Series({'Model': \"OLS\",\n",
    "                 'R-squared' : r_squared_OLS, 'Adj R-squared' : Adj_r_squared_OLS , 'RMSE' :rmse_OLS})\n",
    "\n",
    "\n",
    "\n",
    "# appending our result table\n",
    "result_tabulation = result_tabulation.append(OLS_metrics , ignore_index = True)\n",
    "\n",
    "# view the result table\n",
    "result_tabulation"
   ]
  },
  {
   "cell_type": "markdown",
   "metadata": {},
   "source": [
    "<a id=\"Linear_Regression_using_SGD\"> </a>\n",
    "## 7.2 Linear Regression using SGD\n",
    "\n",
    "https://scikit-learn.org/stable/modules/generated/sklearn.linear_model.SGDRegressor.html"
   ]
  },
  {
   "cell_type": "markdown",
   "metadata": {},
   "source": [
    "<table align=\"left\">\n",
    "    <tr>\n",
    "        <td width=\"8%\">\n",
    "            <img src=\"key.png\">\n",
    "        </td>\n",
    "        <td>\n",
    "            <div align=\"left\", style=\"font-size:120%\">\n",
    "                    <b> Now we build a Linear regression model using SGD Regressor. We start with our original data set gradually proceeding with our analysis<br><br>\n",
    "                        In order to build a Linear regression model using SGD Regressor, we do the following:<br>\n",
    "                        1. Build the model<br>\n",
    "                        2. Predict the values<br>\n",
    "                        3. Compute the accuracy measures<br>\n",
    "                        4. Tabulate the results <br>\n",
    "                      </b>\n",
    "                </font>\n",
    "            </div>\n",
    "        </td>\n",
    "    </tr>\n",
    "</table>"
   ]
  },
  {
   "cell_type": "markdown",
   "metadata": {},
   "source": [
    "**1. Build the model**"
   ]
  },
  {
   "cell_type": "code",
   "execution_count": 107,
   "metadata": {
    "ExecuteTime": {
     "end_time": "2021-10-28T13:38:19.684968Z",
     "start_time": "2021-10-28T13:38:19.677276Z"
    }
   },
   "outputs": [
    {
     "data": {
      "text/plain": [
       "SGDRegressor(alpha=0.01, max_iter=100000)"
      ]
     },
     "execution_count": 107,
     "metadata": {},
     "output_type": "execute_result"
    }
   ],
   "source": [
    "#aplha is nothing but 0-0.0001\n",
    "\n",
    "from sklearn.linear_model import SGDRegressor\n",
    "\n",
    "# build the model\n",
    "SGD_model = SGDRegressor(loss=\"squared_loss\",alpha = 0.01, max_iter = 100000)\n",
    "\n",
    "# fit the model\n",
    "SGD_model.fit(X_train, y_train)"
   ]
  },
  {
   "cell_type": "markdown",
   "metadata": {},
   "source": [
    "**2. Make Predictions**"
   ]
  },
  {
   "cell_type": "code",
   "execution_count": 108,
   "metadata": {
    "ExecuteTime": {
     "end_time": "2021-10-28T13:38:22.165693Z",
     "start_time": "2021-10-28T13:38:22.162031Z"
    }
   },
   "outputs": [],
   "source": [
    "# predict the values\n",
    "y_pred_SGD  = SGD_model.predict(X_test)"
   ]
  },
  {
   "cell_type": "markdown",
   "metadata": {},
   "source": [
    "Before we compute accuracy let's plot the predicted values"
   ]
  },
  {
   "cell_type": "code",
   "execution_count": 109,
   "metadata": {
    "ExecuteTime": {
     "end_time": "2021-10-28T13:38:24.471626Z",
     "start_time": "2021-10-28T13:38:24.325686Z"
    }
   },
   "outputs": [
    {
     "data": {
      "image/png": "[encoded data removed]",
      "text/plain": [
       "<Figure size 1080x576 with 1 Axes>"
      ]
     },
     "metadata": {},
     "output_type": "display_data"
    }
   ],
   "source": [
    "plt.scatter(y_test,y_pred_SGD)\n",
    "plt.xlabel('Targets' ,size = 18)\n",
    "plt.ylabel('Predictions',size = 18)\n",
    "plt.show()"
   ]
  },
  {
   "cell_type": "markdown",
   "metadata": {},
   "source": [
    "**3. Compute accuracy measures**"
   ]
  },
  {
   "cell_type": "code",
   "execution_count": 110,
   "metadata": {
    "ExecuteTime": {
     "end_time": "2021-10-28T13:38:27.188837Z",
     "start_time": "2021-10-28T13:38:27.174206Z"
    }
   },
   "outputs": [
    {
     "name": "stdout",
     "output_type": "stream",
     "text": [
      "r_squared_SGD: 0.707490450438256\n",
      "Adj_r_squared_SGD: 0.698802047976026\n",
      "rmse_SGD: 0.20890283505724344\n"
     ]
    }
   ],
   "source": [
    "# compute the R-Squared\n",
    "r_squared_SGD = SGD_model.score(X_train,y_train)\n",
    "print(\"r_squared_SGD:\",r_squared_SGD )\n",
    "\n",
    "\n",
    "# Number of observation or sample size\n",
    "n = 313 \n",
    "\n",
    "# No of independent variables\n",
    "p = 9\n",
    "\n",
    "#Compute Adj-R-Squared\n",
    "Adj_r_squared_SGD = 1 - (1-r_squared_SGD)*(n-1)/(n-p-1)\n",
    "\n",
    "print(\"Adj_r_squared_SGD:\",Adj_r_squared_SGD)\n",
    "\n",
    "# Compute RMSE\n",
    "from sklearn.metrics import mean_squared_error\n",
    "from math import sqrt\n",
    "\n",
    "rmse_SGD = sqrt(mean_squared_error(y_test, y_pred_SGD))\n",
    "print(\"rmse_SGD:\",rmse_SGD)\n",
    "\n"
   ]
  },
  {
   "cell_type": "markdown",
   "metadata": {},
   "source": [
    "**4. Tabulate the results**"
   ]
  },
  {
   "cell_type": "code",
   "execution_count": 111,
   "metadata": {
    "ExecuteTime": {
     "end_time": "2021-10-28T13:38:29.926458Z",
     "start_time": "2021-10-28T13:38:29.903810Z"
    }
   },
   "outputs": [
    {
     "data": {
      "text/html": [
       "<div>\n",
       "<style scoped>\n",
       "    .dataframe tbody tr th:only-of-type {\n",
       "        vertical-align: middle;\n",
       "    }\n",
       "\n",
       "    .dataframe tbody tr th {\n",
       "        vertical-align: top;\n",
       "    }\n",
       "\n",
       "    .dataframe thead th {\n",
       "        text-align: right;\n",
       "    }\n",
       "</style>\n",
       "<table border=\"1\" class=\"dataframe\">\n",
       "  <thead>\n",
       "    <tr style=\"text-align: right;\">\n",
       "      <th></th>\n",
       "      <th>Model</th>\n",
       "      <th>R-squared</th>\n",
       "      <th>Adj R-squared</th>\n",
       "      <th>RMSE</th>\n",
       "    </tr>\n",
       "  </thead>\n",
       "  <tbody>\n",
       "    <tr>\n",
       "      <th>0</th>\n",
       "      <td>OLS</td>\n",
       "      <td>0.86</td>\n",
       "      <td>0.86</td>\n",
       "      <td>0.14</td>\n",
       "    </tr>\n",
       "    <tr>\n",
       "      <th>1</th>\n",
       "      <td>SGD</td>\n",
       "      <td>0.73</td>\n",
       "      <td>0.72</td>\n",
       "      <td>0.20</td>\n",
       "    </tr>\n",
       "    <tr>\n",
       "      <th>2</th>\n",
       "      <td>SGD</td>\n",
       "      <td>0.71</td>\n",
       "      <td>0.70</td>\n",
       "      <td>0.21</td>\n",
       "    </tr>\n",
       "  </tbody>\n",
       "</table>\n",
       "</div>"
      ],
      "text/plain": [
       "  Model  R-squared  Adj R-squared  RMSE\n",
       "0   OLS       0.86           0.86  0.14\n",
       "1   SGD       0.73           0.72  0.20\n",
       "2   SGD       0.71           0.70  0.21"
      ]
     },
     "execution_count": 111,
     "metadata": {},
     "output_type": "execute_result"
    }
   ],
   "source": [
    "# compiling the required information\n",
    "SGD_metrics = pd.Series({'Model': \"SGD\",\n",
    "                 'R-squared' : r_squared_SGD, 'Adj R-squared' : Adj_r_squared_SGD , 'RMSE' :rmse_SGD})\n",
    "\n",
    "\n",
    "\n",
    "# appending our result table\n",
    "result_tabulation = result_tabulation.append(SGD_metrics , ignore_index = True)\n",
    "\n",
    "# view the result table\n",
    "result_tabulation"
   ]
  },
  {
   "cell_type": "markdown",
   "metadata": {},
   "source": [
    "<a id=\"model_cmp\"> </a>\n",
    "## 5. Model Comparision"
   ]
  },
  {
   "cell_type": "code",
   "execution_count": 112,
   "metadata": {
    "ExecuteTime": {
     "end_time": "2021-10-28T13:38:33.969818Z",
     "start_time": "2021-10-28T13:38:33.957268Z"
    }
   },
   "outputs": [
    {
     "data": {
      "text/html": [
       "<div>\n",
       "<style scoped>\n",
       "    .dataframe tbody tr th:only-of-type {\n",
       "        vertical-align: middle;\n",
       "    }\n",
       "\n",
       "    .dataframe tbody tr th {\n",
       "        vertical-align: top;\n",
       "    }\n",
       "\n",
       "    .dataframe thead th {\n",
       "        text-align: right;\n",
       "    }\n",
       "</style>\n",
       "<table border=\"1\" class=\"dataframe\">\n",
       "  <thead>\n",
       "    <tr style=\"text-align: right;\">\n",
       "      <th></th>\n",
       "      <th>Model</th>\n",
       "      <th>R-squared</th>\n",
       "      <th>Adj R-squared</th>\n",
       "      <th>RMSE</th>\n",
       "    </tr>\n",
       "  </thead>\n",
       "  <tbody>\n",
       "    <tr>\n",
       "      <th>0</th>\n",
       "      <td>OLS</td>\n",
       "      <td>0.86</td>\n",
       "      <td>0.86</td>\n",
       "      <td>0.14</td>\n",
       "    </tr>\n",
       "    <tr>\n",
       "      <th>1</th>\n",
       "      <td>SGD</td>\n",
       "      <td>0.73</td>\n",
       "      <td>0.72</td>\n",
       "      <td>0.20</td>\n",
       "    </tr>\n",
       "    <tr>\n",
       "      <th>2</th>\n",
       "      <td>SGD</td>\n",
       "      <td>0.71</td>\n",
       "      <td>0.70</td>\n",
       "      <td>0.21</td>\n",
       "    </tr>\n",
       "  </tbody>\n",
       "</table>\n",
       "</div>"
      ],
      "text/plain": [
       "  Model  R-squared  Adj R-squared  RMSE\n",
       "0   OLS       0.86           0.86  0.14\n",
       "1   SGD       0.73           0.72  0.20\n",
       "2   SGD       0.71           0.70  0.21"
      ]
     },
     "execution_count": 112,
     "metadata": {},
     "output_type": "execute_result"
    }
   ],
   "source": [
    "result_tabulation"
   ]
  },
  {
   "cell_type": "markdown",
   "metadata": {},
   "source": [
    "<table align=\"left\">\n",
    "    <tr>\n",
    "        <td width=\"8%\">\n",
    "            <img src=\"note.png\">\n",
    "        </td>\n",
    "        <td>\n",
    "            <div align=\"left\", style=\"font-size:120%\">\n",
    "                    <b>It can be seen from the result tabulation, that accuracy measures for the OLS is better than SGD. </b>\n",
    "                </font>\n",
    "            </div>\n",
    "        </td>\n",
    "    </tr>\n",
    "</table>"
   ]
  },
  {
   "cell_type": "code",
   "execution_count": null,
   "metadata": {},
   "outputs": [],
   "source": []
  }
 ],
 "metadata": {
  "kernelspec": {
   "display_name": "Python 3",
   "language": "python",
   "name": "python3"
  },
  "language_info": {
   "codemirror_mode": {
    "name": "ipython",
    "version": 3
   },
   "file_extension": ".py",
   "mimetype": "text/x-python",
   "name": "python",
   "nbconvert_exporter": "python",
   "pygments_lexer": "ipython3",
   "version": "3.8.8"
  },
  "toc": {
   "base_numbering": 1,
   "nav_menu": {},
   "number_sections": false,
   "sideBar": true,
   "skip_h1_title": false,
   "title_cell": "Table of Contents",
   "title_sidebar": "Contents",
   "toc_cell": false,
   "toc_position": {},
   "toc_section_display": true,
   "toc_window_display": false
  }
 },
 "nbformat": 4,
 "nbformat_minor": 2
}
